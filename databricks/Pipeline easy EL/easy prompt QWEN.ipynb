{
 "cells": [
  {
   "cell_type": "markdown",
   "metadata": {
    "application/vnd.databricks.v1+cell": {
     "cellMetadata": {},
     "inputWidgets": {},
     "nuid": "f139fb76-a5a2-4df0-ae31-21efd44ab14d",
     "showTitle": false,
     "tableResultSettingsMap": {},
     "title": ""
    }
   },
   "source": [
    "##**PROMPT**\n",
    "Generate a pipeline in Databricks that: 1 Performs a GET request to space x launches API  2 POST the result to httpbin.org 3 includes error and time evaluation in the output"
   ]
  },
  {
   "cell_type": "code",
   "execution_count": 0,
   "metadata": {
    "application/vnd.databricks.v1+cell": {
     "cellMetadata": {
      "byteLimit": 2048000,
      "rowLimit": 10000
     },
     "inputWidgets": {},
     "nuid": "97d092ff-cbc3-40b4-832d-2993003c06a6",
     "showTitle": false,
     "tableResultSettingsMap": {},
     "title": ""
    }
   },
   "outputs": [],
   "source": [
    "import requests\n",
    "import time\n",
    "\n",
    "# Function to perform the GET request to SpaceX API\n",
    "def fetch_spacex_launch_data():\n",
    "    try:\n",
    "        print(\"Fetching data from SpaceX API...\")\n",
    "        url = \"https://api.spacexdata.com/v4/launches/latest\"\n",
    "        response = requests.get(url)\n",
    "        response.raise_for_status()  # Raise an exception for HTTP errors\n",
    "        return response.json()\n",
    "    except requests.exceptions.RequestException as e:\n",
    "        print(f\"Error fetching SpaceX data: {e}\")\n",
    "        return None\n",
    "\n",
    "# Function to POST data to httpbin.org\n",
    "def post_to_httpbin(data):\n",
    "    try:\n",
    "        print(\"Posting data to httpbin.org...\")\n",
    "        url = \"https://httpbin.org/post\"\n",
    "        response = requests.post(url, json=data)\n",
    "        response.raise_for_status()  # Raise an exception for HTTP errors\n",
    "        return response.json()\n",
    "    except requests.exceptions.RequestException as e:\n",
    "        print(f\"Error posting data to httpbin.org: {e}\")\n",
    "        return None\n",
    "\n",
    "# Main pipeline function\n",
    "def spacex_pipeline():\n",
    "    start_time = time.time()  # Start timing the pipeline\n",
    "    \n",
    "    # Step 1: Perform GET request to SpaceX API\n",
    "    spacex_data = fetch_spacex_launch_data()\n",
    "    if spacex_data is None:\n",
    "        print(\"Pipeline failed at GET request step.\")\n",
    "        return\n",
    "    \n",
    "    # Step 2: Perform POST request to httpbin.org\n",
    "    httpbin_response = post_to_httpbin(spacex_data)\n",
    "    if httpbin_response is None:\n",
    "        print(\"Pipeline failed at POST request step.\")\n",
    "        return\n",
    "    \n",
    "    # Step 3: Evaluate time and log results\n",
    "    end_time = time.time()\n",
    "    total_time = end_time - start_time\n",
    "    print(f\"Pipeline completed successfully in {total_time:.2f} seconds.\")\n",
    "    print(\"HTTPBin Response:\", httpbin_response)\n",
    "\n",
    "# Execute the pipeline\n",
    "spacex_pipeline()"
   ]
  }
 ],
 "metadata": {
  "application/vnd.databricks.v1+notebook": {
   "computePreferences": null,
   "dashboards": [],
   "environmentMetadata": {
    "base_environment": "",
    "environment_version": "2"
   },
   "inputWidgetPreferences": null,
   "language": "python",
   "notebookMetadata": {
    "pythonIndentUnit": 4
   },
   "notebookName": "easy prompt QWEN",
   "widgets": {}
  },
  "language_info": {
   "name": "python"
  }
 },
 "nbformat": 4,
 "nbformat_minor": 0
}
