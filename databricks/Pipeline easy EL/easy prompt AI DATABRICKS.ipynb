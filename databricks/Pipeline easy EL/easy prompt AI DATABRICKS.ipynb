{
 "cells": [
  {
   "cell_type": "markdown",
   "metadata": {
    "application/vnd.databricks.v1+cell": {
     "cellMetadata": {},
     "inputWidgets": {},
     "nuid": "f139fb76-a5a2-4df0-ae31-21efd44ab14d",
     "showTitle": false,
     "tableResultSettingsMap": {},
     "title": ""
    }
   },
   "source": [
    "##**PROMPT**\n",
    "Generate a pipeline in Databricks that: 1 Performs a GET request to space x launches API  2 POST the result to httpbin.org 3 includes error and time evaluation in the output"
   ]
  },
  {
   "cell_type": "code",
   "execution_count": 0,
   "metadata": {
    "application/vnd.databricks.v1+cell": {
     "cellMetadata": {
      "byteLimit": 2048000,
      "rowLimit": 10000
     },
     "inputWidgets": {},
     "nuid": "083bc6e6-12fa-4604-82eb-8a63740c268e",
     "showTitle": false,
     "tableResultSettingsMap": {},
     "title": ""
    }
   },
   "outputs": [],
   "source": [
    "# Databricks Notebook\n",
    "\n",
    "# Import necessary libraries\n",
    "import requests\n",
    "import time\n",
    "import json\n",
    "\n",
    "# --- Pipeline Configuration ---\n",
    "SPACEX_API_URL = \"https://api.spacexdata.com/v4/launches\"\n",
    "HTTPBIN_POST_URL = \"https://httpbin.org/post\"\n",
    "\n",
    "# --- Function to perform GET request to SpaceX API ---\n",
    "def fetch_spacex_launches():\n",
    "    \"\"\"Fetches launch data from the SpaceX API.\"\"\"\n",
    "    start_time = time.time()\n",
    "    try:\n",
    "        response = requests.get(SPACEX_API_URL)\n",
    "        response.raise_for_status()  # Raise HTTPError for bad responses (4xx or 5xx)\n",
    "        data = response.json()\n",
    "        end_time = time.time()\n",
    "        return {\"success\": True, \"data\": data, \"elapsed_time\": end_time - start_time}\n",
    "    except requests.exceptions.RequestException as e:\n",
    "        end_time = time.time()\n",
    "        return {\"success\": False, \"error\": str(e), \"elapsed_time\": end_time - start_time}\n",
    "\n",
    "# --- Function to POST data to httpbin.org ---\n",
    "def post_data_to_httpbin(data):\n",
    "    \"\"\"Posts data to httpbin.org and returns the response.\"\"\"\n",
    "    start_time = time.time()\n",
    "    try:\n",
    "        response = requests.post(HTTPBIN_POST_URL, json=data)\n",
    "        response.raise_for_status()\n",
    "        result = response.json()\n",
    "        end_time = time.time()\n",
    "        return {\"success\": True, \"result\": result, \"elapsed_time\": end_time - start_time}\n",
    "    except requests.exceptions.RequestException as e:\n",
    "        end_time = time.time()\n",
    "        return {\"success\": False, \"error\": str(e), \"elapsed_time\": end_time - start_time}\n",
    "\n",
    "# --- Main Pipeline Execution ---\n",
    "print(\"Starting SpaceX API fetch...\")\n",
    "spacex_result = fetch_spacex_launches()\n",
    "\n",
    "if spacex_result[\"success\"]:\n",
    "    print(\"SpaceX API fetch successful.\")\n",
    "    print(f\"Fetch time: {spacex_result['elapsed_time']:.2f} seconds\")\n",
    "    print(\"Starting POST to httpbin...\")\n",
    "    httpbin_result = post_data_to_httpbin(spacex_result[\"data\"])\n",
    "\n",
    "    if httpbin_result[\"success\"]:\n",
    "        print(\"httpbin POST successful.\")\n",
    "        print(f\"POST time: {httpbin_result['elapsed_time']:.2f} seconds\")\n",
    "        #print(\"httpbin response:\")\n",
    "        #print(json.dumps(httpbin_result[\"result\"], indent=2)) #if you want to print the whole httpbin response\n",
    "        print(\"httpbin response received.\")\n",
    "    else:\n",
    "        print(\"httpbin POST failed.\")\n",
    "        print(f\"POST time: {httpbin_result['elapsed_time']:.2f} seconds\")\n",
    "        print(f\"Error: {httpbin_result['error']}\")\n",
    "else:\n",
    "    print(\"SpaceX API fetch failed.\")\n",
    "    print(f\"Fetch time: {spacex_result['elapsed_time']:.2f} seconds\")\n",
    "    print(f\"Error: {spacex_result['error']}\")\n",
    "\n",
    "# --- End of Pipeline ---"
   ]
  },
  {
   "cell_type": "code",
   "execution_count": 0,
   "metadata": {
    "application/vnd.databricks.v1+cell": {
     "cellMetadata": {},
     "inputWidgets": {},
     "nuid": "43739789-b859-46fc-b9af-43f309075523",
     "showTitle": false,
     "tableResultSettingsMap": {},
     "title": ""
    }
   },
   "outputs": [],
   "source": []
  }
 ],
 "metadata": {
  "application/vnd.databricks.v1+notebook": {
   "computePreferences": null,
   "dashboards": [],
   "environmentMetadata": {
    "base_environment": "",
    "environment_version": "2"
   },
   "inputWidgetPreferences": null,
   "language": "python",
   "notebookMetadata": {
    "pythonIndentUnit": 4
   },
   "notebookName": "easy prompt AI DATABRICKS",
   "widgets": {}
  },
  "language_info": {
   "name": "python"
  }
 },
 "nbformat": 4,
 "nbformat_minor": 0
}
