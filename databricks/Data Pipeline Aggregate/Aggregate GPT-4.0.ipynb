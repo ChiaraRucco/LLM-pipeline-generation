{
 "cells": [
  {
   "cell_type": "markdown",
   "metadata": {
    "application/vnd.databricks.v1+cell": {
     "cellMetadata": {},
     "inputWidgets": {},
     "nuid": "c1137619-5355-4fef-890f-52fe0a9dd7a4",
     "showTitle": false,
     "tableResultSettingsMap": {},
     "title": ""
    }
   },
   "source": [
    "## PROMPT\n",
    "Generate a pipeline for Databricks:\n",
    "* Get Data information from two web addresses:\n",
    "   * Space launches: https://api.spacexdata.com/v3/launches\n",
    "* Aggregate the launches based on launch year\n",
    "* Send the chosen information to the web address: https://httpbin.org/post\n",
    "* The script must provide status updates on its progress, report any errors encountered, confirm the outcome of the final data sending step, and measure/report execution times."
   ]
  },
  {
   "cell_type": "code",
   "execution_count": 0,
   "metadata": {
    "application/vnd.databricks.v1+cell": {
     "cellMetadata": {
      "byteLimit": 2048000,
      "rowLimit": 10000
     },
     "inputWidgets": {},
     "nuid": "ee0d752a-c304-43fb-b7ae-0f6012b395ae",
     "showTitle": false,
     "tableResultSettingsMap": {},
     "title": ""
    }
   },
   "outputs": [],
   "source": [
    "import requests\n",
    "import json\n",
    "import time\n",
    "from collections import defaultdict\n",
    "\n",
    "def log_status(message):\n",
    "    print(f\"[STATUS] {message}\")\n",
    "\n",
    "def log_error(message):\n",
    "    print(f\"[ERROR] {message}\")\n",
    "\n",
    "def main():\n",
    "    start_time = time.time()\n",
    "    log_status(\"Pipeline started.\")\n",
    "\n",
    "    # Step 1: Fetch data from the SpaceX API\n",
    "    spacex_api_url = \"https://api.spacexdata.com/v3/launches\"\n",
    "    try:\n",
    "        log_status(f\"Fetching data from {spacex_api_url}...\")\n",
    "        response = requests.get(spacex_api_url)\n",
    "        response.raise_for_status()\n",
    "        launches_data = response.json()\n",
    "        log_status(f\"Fetched {len(launches_data)} launches.\")\n",
    "    except requests.RequestException as e:\n",
    "        log_error(f\"Failed to fetch SpaceX data: {e}\")\n",
    "        return\n",
    "\n",
    "    # Step 2: Aggregate launches by year\n",
    "    log_status(\"Aggregating launches by launch year...\")\n",
    "    aggregated_data = defaultdict(int)\n",
    "    for launch in launches_data:\n",
    "        year = launch.get(\"launch_year\")\n",
    "        if year:\n",
    "            aggregated_data[year] += 1\n",
    "\n",
    "    result = dict(aggregated_data)\n",
    "    log_status(f\"Aggregated data: {result}\")\n",
    "\n",
    "    # Step 3: Send aggregated data to external endpoint\n",
    "    post_url = \"https://httpbin.org/post\"\n",
    "    try:\n",
    "        log_status(f\"Sending data to {post_url}...\")\n",
    "        post_response = requests.post(post_url, json=result)\n",
    "        post_response.raise_for_status()\n",
    "        log_status(\"Data successfully sent.\")\n",
    "        log_status(f\"Response: {post_response.json().get('json')}\")\n",
    "    except requests.RequestException as e:\n",
    "        log_error(f\"Failed to send data: {e}\")\n",
    "        return\n",
    "\n",
    "    # Step 4: Report execution time\n",
    "    elapsed_time = time.time() - start_time\n",
    "    log_status(f\"Pipeline completed in {elapsed_time:.2f} seconds.\")\n",
    "\n",
    "# Run the pipeline\n",
    "main()\n"
   ]
  },
  {
   "cell_type": "code",
   "execution_count": 0,
   "metadata": {
    "application/vnd.databricks.v1+cell": {
     "cellMetadata": {},
     "inputWidgets": {},
     "nuid": "13f02b58-abdc-4d4f-a6a1-1d55cb0a6203",
     "showTitle": false,
     "tableResultSettingsMap": {},
     "title": ""
    }
   },
   "outputs": [],
   "source": []
  }
 ],
 "metadata": {
  "application/vnd.databricks.v1+notebook": {
   "computePreferences": null,
   "dashboards": [],
   "environmentMetadata": {
    "base_environment": "",
    "environment_version": "2"
   },
   "inputWidgetPreferences": null,
   "language": "python",
   "notebookMetadata": {
    "pythonIndentUnit": 4
   },
   "notebookName": "Aggregate GPT-4.0",
   "widgets": {}
  },
  "language_info": {
   "name": "python"
  }
 },
 "nbformat": 4,
 "nbformat_minor": 0
}
