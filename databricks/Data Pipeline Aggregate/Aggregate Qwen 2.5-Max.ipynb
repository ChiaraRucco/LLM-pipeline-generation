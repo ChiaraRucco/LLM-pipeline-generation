{
 "cells": [
  {
   "cell_type": "markdown",
   "metadata": {
    "application/vnd.databricks.v1+cell": {
     "cellMetadata": {},
     "inputWidgets": {},
     "nuid": "c1137619-5355-4fef-890f-52fe0a9dd7a4",
     "showTitle": false,
     "tableResultSettingsMap": {},
     "title": ""
    }
   },
   "source": [
    "## PROMPT\n",
    "Generate a pipeline for Databricks:\n",
    "* Get Data information from two web addresses:\n",
    "   * Space launches: https://api.spacexdata.com/v3/launches\n",
    "* Aggregate the launches based on launch year\n",
    "* Send the chosen information to the web address: https://httpbin.org/post\n",
    "* The script must provide status updates on its progress, report any errors encountered, confirm the outcome of the final data sending step, and measure/report execution times."
   ]
  },
  {
   "cell_type": "code",
   "execution_count": 0,
   "metadata": {
    "application/vnd.databricks.v1+cell": {
     "cellMetadata": {
      "byteLimit": 2048000,
      "rowLimit": 10000
     },
     "inputWidgets": {},
     "nuid": "8881c113-1393-4b63-9297-3d530f91b32f",
     "showTitle": false,
     "tableResultSettingsMap": {},
     "title": ""
    }
   },
   "outputs": [],
   "source": [
    "import requests\n",
    "import pandas as pd\n",
    "import time\n",
    "\n",
    "# Function to fetch data from a given URL\n",
    "def fetch_data(url):\n",
    "    try:\n",
    "        print(f\"Fetching data from: {url}\")\n",
    "        response = requests.get(url)\n",
    "        response.raise_for_status()  # Raise an exception for HTTP errors\n",
    "        print(\"Data fetched successfully.\")\n",
    "        return response.json()\n",
    "    except requests.exceptions.RequestException as e:\n",
    "        print(f\"Error fetching data from {url}: {e}\")\n",
    "        return None\n",
    "\n",
    "# Function to aggregate launches by year\n",
    "def aggregate_launches_by_year(launches):\n",
    "    try:\n",
    "        print(\"Aggregating launches by year...\")\n",
    "        df = pd.DataFrame(launches)\n",
    "        df['launch_year'] = pd.to_datetime(df['launch_date_utc']).dt.year\n",
    "        aggregated_data = df.groupby('launch_year').size().reset_index(name='launch_count')\n",
    "        print(\"Aggregation completed successfully.\")\n",
    "        return aggregated_data.to_dict(orient='records')  # Convert to list of dictionaries\n",
    "    except Exception as e:\n",
    "        print(f\"Error during aggregation: {e}\")\n",
    "        return None\n",
    "\n",
    "# Function to send data to a target URL\n",
    "def send_data(url, data):\n",
    "    try:\n",
    "        print(f\"Sending data to: {url}\")\n",
    "        response = requests.post(url, json=data)\n",
    "        response.raise_for_status()  # Raise an exception for HTTP errors\n",
    "        print(\"Data sent successfully.\")\n",
    "        return response.status_code\n",
    "    except requests.exceptions.RequestException as e:\n",
    "        print(f\"Error sending data to {url}: {e}\")\n",
    "        return None\n",
    "\n",
    "# Main pipeline function\n",
    "def main_pipeline():\n",
    "    start_time = time.time()\n",
    "    \n",
    "    # Step 1: Fetch space launches data\n",
    "    spacex_url = \"https://api.spacexdata.com/v3/launches\"\n",
    "    launches_data = fetch_data(spacex_url)\n",
    "    if launches_data is None:\n",
    "        print(\"Pipeline terminated due to data fetching error.\")\n",
    "        return\n",
    "    \n",
    "    # Step 2: Aggregate launches by year\n",
    "    aggregated_data = aggregate_launches_by_year(launches_data)\n",
    "    if aggregated_data is None:\n",
    "        print(\"Pipeline terminated due to aggregation error.\")\n",
    "        return\n",
    "    \n",
    "    # Step 3: Send aggregated data to the target URL\n",
    "    target_url = \"https://httpbin.org/post\"\n",
    "    status_code = send_data(target_url, aggregated_data)\n",
    "    if status_code == 200:\n",
    "        print(\"Pipeline completed successfully. Data sent to target URL.\")\n",
    "    else:\n",
    "        print(\"Pipeline terminated due to data sending error.\")\n",
    "    \n",
    "    # Measure and report execution time\n",
    "    end_time = time.time()\n",
    "    execution_time = end_time - start_time\n",
    "    print(f\"Total execution time: {execution_time:.2f} seconds\")\n",
    "\n",
    "# Execute the pipeline\n",
    "if __name__ == \"__main__\":\n",
    "    main_pipeline()"
   ]
  },
  {
   "cell_type": "code",
   "execution_count": 0,
   "metadata": {
    "application/vnd.databricks.v1+cell": {
     "cellMetadata": {},
     "inputWidgets": {},
     "nuid": "ea977745-28e4-4550-afb9-97b94fbc9329",
     "showTitle": false,
     "tableResultSettingsMap": {},
     "title": ""
    }
   },
   "outputs": [],
   "source": []
  }
 ],
 "metadata": {
  "application/vnd.databricks.v1+notebook": {
   "computePreferences": null,
   "dashboards": [],
   "environmentMetadata": {
    "base_environment": "",
    "environment_version": "2"
   },
   "inputWidgetPreferences": null,
   "language": "python",
   "notebookMetadata": {
    "pythonIndentUnit": 4
   },
   "notebookName": "Aggregate Qwen 2.5-Max",
   "widgets": {}
  },
  "language_info": {
   "name": "python"
  }
 },
 "nbformat": 4,
 "nbformat_minor": 0
}
