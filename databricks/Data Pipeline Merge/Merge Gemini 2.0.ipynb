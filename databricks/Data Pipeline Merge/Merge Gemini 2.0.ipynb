{
 "cells": [
  {
   "cell_type": "markdown",
   "metadata": {
    "application/vnd.databricks.v1+cell": {
     "cellMetadata": {},
     "inputWidgets": {},
     "nuid": "c1137619-5355-4fef-890f-52fe0a9dd7a4",
     "showTitle": false,
     "tableResultSettingsMap": {},
     "title": ""
    }
   },
   "source": [
    "## PROMPT\n",
    "Generate a pipeline for Databricks:\n",
    "\n",
    "Get Data information from two web addresses:\n",
    "\n",
    "Space launches: https://api.spacexdata.com/v3/launches\n",
    "\n",
    "Space rockets: https://api.spacexdata.com/v3/rockets\n",
    "\n",
    "Combine each launch record with the name of the corresponding rocket.\n",
    "\n",
    "Send the final result (launches with rocket names) to the web address: https://httpbin.org/post\n",
    "\n",
    "The script must provide status updates on its progress, report any errors encountered, confirm the outcome of the final data sending step, and measure/report execution times.\n"
   ]
  },
  {
   "cell_type": "code",
   "execution_count": 0,
   "metadata": {
    "application/vnd.databricks.v1+cell": {
     "cellMetadata": {
      "byteLimit": 2048000,
      "rowLimit": 10000
     },
     "inputWidgets": {},
     "nuid": "65e174cc-6e76-412b-85e9-f64ed6ea46f4",
     "showTitle": false,
     "tableResultSettingsMap": {},
     "title": ""
    }
   },
   "outputs": [],
   "source": [
    "import requests\n",
    "import json\n",
    "import time\n",
    "\n",
    "# Define the URLs\n",
    "launches_url = \"https://api.spacexdata.com/v3/launches\"\n",
    "rockets_url = \"https://api.spacexdata.com/v3/rockets\"\n",
    "post_url = \"https://httpbin.org/post\"\n",
    "\n",
    "def main():\n",
    "    print(\"Starting Databricks pipeline...\")\n",
    "\n",
    "    # --- Step 1: Fetch Space Launches Data ---\n",
    "    start_time = time.time()\n",
    "    print(\"Fetching space launches data...\")\n",
    "    try:\n",
    "        launches_response = requests.get(launches_url)\n",
    "        launches_response.raise_for_status()  # Raise an exception for bad status codes\n",
    "        launches_data = launches_response.json()\n",
    "        launches_fetch_time = time.time() - start_time\n",
    "        print(f\"Successfully fetched {len(launches_data)} launch records in {launches_fetch_time:.2f} seconds.\")\n",
    "    except requests.exceptions.RequestException as e:\n",
    "        print(f\"Error fetching space launches data: {e}\")\n",
    "        return\n",
    "\n",
    "    # --- Step 2: Fetch Space Rockets Data ---\n",
    "    start_time = time.time()\n",
    "    print(\"Fetching space rockets data...\")\n",
    "    try:\n",
    "        rockets_response = requests.get(rockets_url)\n",
    "        rockets_response.raise_for_status()\n",
    "        rockets_data = rockets_response.json()\n",
    "        rockets_fetch_time = time.time() - start_time\n",
    "        print(f\"Successfully fetched {len(rockets_data)} rocket records in {rockets_fetch_time:.2f} seconds.\")\n",
    "\n",
    "        # Create a dictionary to map rocket IDs to names\n",
    "        rockets_map = {rocket['rocket_id']: rocket['rocket_name'] for rocket in rockets_data}\n",
    "    except requests.exceptions.RequestException as e:\n",
    "        print(f\"Error fetching space rockets data: {e}\")\n",
    "        return\n",
    "\n",
    "    # --- Step 3: Combine Launch Data with Rocket Names ---\n",
    "    print(\"Combining launch data with rocket names...\")\n",
    "    combined_data = []\n",
    "    for launch in launches_data:\n",
    "        rocket_id = launch.get('rocket', {}).get('rocket_id')\n",
    "        rocket_name = rockets_map.get(rocket_id, \"Unknown Rocket\")\n",
    "        launch['rocket_name'] = rocket_name\n",
    "        combined_data.append(launch)\n",
    "    print(f\"Successfully combined data for {len(combined_data)} launches.\")\n",
    "\n",
    "    # --- Step 4: Send Combined Data to Target URL ---\n",
    "    start_time = time.time()\n",
    "    print(f\"Sending combined data to {post_url}...\")\n",
    "    try:\n",
    "        post_response = requests.post(post_url, json=combined_data)\n",
    "        post_response.raise_for_status()\n",
    "        post_time = time.time() - start_time\n",
    "        print(f\"Successfully sent combined data in {post_time:.2f} seconds. Response status code: {post_response.status_code}\")\n",
    "        try:\n",
    "            response_json = post_response.json()\n",
    "            print(\"Response from the server:\")\n",
    "            print(json.dumps(response_json, indent=2))\n",
    "        except json.JSONDecodeError:\n",
    "            print(\"Could not decode JSON response from the server.\")\n",
    "    except requests.exceptions.RequestException as e:\n",
    "        print(f\"Error sending data to {post_url}: {e}\")\n",
    "        return\n",
    "\n",
    "    # --- Step 5: Report Overall Execution Time ---\n",
    "    total_execution_time = time.time() - script_start_time\n",
    "    print(f\"\\nPipeline execution finished in {total_execution_time:.2f} seconds.\")\n",
    "\n",
    "if __name__ == \"__main__\":\n",
    "    script_start_time = time.time()\n",
    "    main()\n",
    "    "
   ]
  },
  {
   "cell_type": "code",
   "execution_count": 0,
   "metadata": {
    "application/vnd.databricks.v1+cell": {
     "cellMetadata": {},
     "inputWidgets": {},
     "nuid": "fce3094e-06f7-4695-a6ee-9c534a53b6f3",
     "showTitle": false,
     "tableResultSettingsMap": {},
     "title": ""
    }
   },
   "outputs": [],
   "source": []
  }
 ],
 "metadata": {
  "application/vnd.databricks.v1+notebook": {
   "computePreferences": null,
   "dashboards": [],
   "environmentMetadata": {
    "base_environment": "",
    "environment_version": "2"
   },
   "inputWidgetPreferences": null,
   "language": "python",
   "notebookMetadata": {
    "pythonIndentUnit": 4
   },
   "notebookName": "Merge Gemini 2.0",
   "widgets": {}
  },
  "language_info": {
   "name": "python"
  }
 },
 "nbformat": 4,
 "nbformat_minor": 0
}
