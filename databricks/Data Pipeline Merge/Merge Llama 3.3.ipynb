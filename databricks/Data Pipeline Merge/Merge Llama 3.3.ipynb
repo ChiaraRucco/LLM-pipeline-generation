{
 "cells": [
  {
   "cell_type": "markdown",
   "metadata": {
    "application/vnd.databricks.v1+cell": {
     "cellMetadata": {},
     "inputWidgets": {},
     "nuid": "c1137619-5355-4fef-890f-52fe0a9dd7a4",
     "showTitle": false,
     "tableResultSettingsMap": {},
     "title": ""
    }
   },
   "source": [
    "## PROMPT\n",
    "Generate a pipeline for Databricks:\n",
    "\n",
    "Get Data information from two web addresses:\n",
    "\n",
    "Space launches: https://api.spacexdata.com/v3/launches\n",
    "\n",
    "Space rockets: https://api.spacexdata.com/v3/rockets\n",
    "\n",
    "Combine each launch record with the name of the corresponding rocket.\n",
    "\n",
    "Send the final result (launches with rocket names) to the web address: https://httpbin.org/post\n",
    "\n",
    "The script must provide status updates on its progress, report any errors encountered, confirm the outcome of the final data sending step, and measure/report execution times."
   ]
  },
  {
   "cell_type": "code",
   "execution_count": 0,
   "metadata": {
    "application/vnd.databricks.v1+cell": {
     "cellMetadata": {
      "byteLimit": 2048000,
      "rowLimit": 10000
     },
     "inputWidgets": {},
     "nuid": "55cb0913-c273-4963-b018-d50ff97cd9e5",
     "showTitle": false,
     "tableResultSettingsMap": {},
     "title": ""
    }
   },
   "outputs": [],
   "source": [
    "import requests\n",
    "import json\n",
    "from datetime import datetime\n",
    "import time\n",
    "\n",
    "# Function to get data from a URL\n",
    "def get_data(url):\n",
    "    try:\n",
    "        response = requests.get(url)\n",
    "        response.raise_for_status()  # Raise an exception for HTTP errors\n",
    "        return response.json()\n",
    "    except requests.exceptions.RequestException as err:\n",
    "        print(f\"Error fetching data: {err}\")\n",
    "        return None\n",
    "\n",
    "# Function to post data to a URL\n",
    "def post_data(url, data):\n",
    "    try:\n",
    "        response = requests.post(url, json=data)\n",
    "        response.raise_for_status()  # Raise an exception for HTTP errors\n",
    "        return response.json()\n",
    "    except requests.exceptions.RequestException as err:\n",
    "        print(f\"Error posting data: {err}\")\n",
    "        return None\n",
    "\n",
    "# Main function to execute the pipeline\n",
    "def execute_pipeline():\n",
    "    start_time = time.time()\n",
    "    print(f\"Pipeline started at: {datetime.now()}\")\n",
    "    \n",
    "    # Get space launches data\n",
    "    launches_url = \"https://api.spacexdata.com/v3/launches\"\n",
    "    print(f\"Fetching launches data from: {launches_url}\")\n",
    "    launches_data = get_data(launches_url)\n",
    "    if launches_data is None:\n",
    "        print(\"Failed to fetch launches data. Exiting pipeline.\")\n",
    "        return\n",
    "    \n",
    "    # Get space rockets data\n",
    "    rockets_url = \"https://api.spacexdata.com/v3/rockets\"\n",
    "    print(f\"Fetching rockets data from: {rockets_url}\")\n",
    "    rockets_data = get_data(rockets_url)\n",
    "    if rockets_data is None:\n",
    "        print(\"Failed to fetch rockets data. Exiting pipeline.\")\n",
    "        return\n",
    "    \n",
    "    # Combine each launch record with the name of the corresponding rocket\n",
    "    print(\"Combining launches data with rocket names\")\n",
    "    combined_data = []\n",
    "    for launch in launches_data:\n",
    "        rocket_id = launch['rocket']['rocket_id']\n",
    "        rocket_name = next((rocket['rocket_name'] for rocket in rockets_data if rocket['rocket_id'] == rocket_id), None)\n",
    "        if rocket_name:\n",
    "            launch['rocket_name'] = rocket_name\n",
    "            combined_data.append(launch)\n",
    "        else:\n",
    "            print(f\"Rocket name not found for launch with rocket ID: {rocket_id}\")\n",
    "    \n",
    "    # Send the final result to the web address\n",
    "    post_url = \"https://httpbin.org/post\"\n",
    "    print(f\"Posting combined data to: {post_url}\")\n",
    "    post_response = post_data(post_url, combined_data)\n",
    "    if post_response is not None:\n",
    "        print(f\"Data posted successfully. Response: {post_response}\")\n",
    "    else:\n",
    "        print(\"Failed to post data.\")\n",
    "    \n",
    "    end_time = time.time()\n",
    "    execution_time = end_time - start_time\n",
    "    print(f\"Pipeline finished at: {datetime.now()}\")\n",
    "    print(f\"Execution time: {execution_time} seconds\")\n",
    "\n",
    "# Execute the pipeline\n",
    "execute_pipeline()\n"
   ]
  },
  {
   "cell_type": "code",
   "execution_count": 0,
   "metadata": {
    "application/vnd.databricks.v1+cell": {
     "cellMetadata": {},
     "inputWidgets": {},
     "nuid": "b7e5f039-dcf5-4dad-8e20-323369a15a42",
     "showTitle": false,
     "tableResultSettingsMap": {},
     "title": ""
    }
   },
   "outputs": [],
   "source": []
  }
 ],
 "metadata": {
  "application/vnd.databricks.v1+notebook": {
   "computePreferences": null,
   "dashboards": [],
   "environmentMetadata": {
    "base_environment": "",
    "environment_version": "2"
   },
   "inputWidgetPreferences": null,
   "language": "python",
   "notebookMetadata": {
    "pythonIndentUnit": 4
   },
   "notebookName": "Merge Llama 3.3",
   "widgets": {}
  },
  "language_info": {
   "name": "python"
  }
 },
 "nbformat": 4,
 "nbformat_minor": 0
}
