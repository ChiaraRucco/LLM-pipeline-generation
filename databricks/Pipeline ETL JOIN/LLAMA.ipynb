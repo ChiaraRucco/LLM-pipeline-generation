{
 "cells": [
  {
   "cell_type": "markdown",
   "metadata": {
    "application/vnd.databricks.v1+cell": {
     "cellMetadata": {},
     "inputWidgets": {},
     "nuid": "b6013620-52de-4e21-aa7c-ea5c0d9a24a8",
     "showTitle": false,
     "tableResultSettingsMap": {},
     "title": ""
    }
   },
   "source": [
    "You are an expert Python developer specializing in the Databricks environment. Your task is to create a complete Python script to be executed within a Databricks notebook. The script must perform the following operations:\n",
    "1.\tData Retrieval from SpaceX API:\n",
    "o\tInteract with the SpaceX v3 REST API (https://api.spacexdata.com/v3).\n",
    "o\tRetrieve data from two specific endpoints: \n",
    "\tAll launches: https://api.spacexdata.com/v3/launches\n",
    "\tAll rockets: https://api.spacexdata.com/v3/rockets\n",
    "o\tHandle potential errors during the API calls (e.g., timeouts, non-200 status codes).\n",
    "2.\tJOIN Operation:\n",
    "o\tPerform a \"JOIN\" operation to combine information from the launches data and the rockets data.\n",
    "o\tJoin Logic: For each launch record, look up the corresponding rocket record using the rocket identifier. The join key is the rocket.rocket_id field within each launch record, which matches the rocket_id field in the rocket records. Add the rocket_name from the matched rocket record to the launch record. (This is conceptually similar to a left join, keeping all launch records).\n",
    "o\tThe final result should be a list of dictionaries, where each dictionary represents a launch enriched with the corresponding rocket_name.\n",
    "3.\tControl Parameters and Debugging:\n",
    "o\tInclude variables at the beginning of the script to define the API endpoint URLs, making them easily modifiable: \n",
    "\tLAUNCHES_API_URL = \"https://api.spacexdata.com/v3/launches\"\n",
    "\tROCKETS_API_URL = \"https://api.spacexdata.com/v3/rockets\"\n",
    "o\tUse Python's standard logging module to provide informative output during execution. Configure logging to display messages at the INFO level.\n",
    "o\tLog key messages such as: starting data retrieval (for launches, for rockets), number of launches retrieved, number of rockets retrieved, starting join operation, join operation complete, number of records after join, starting upload to httpbin, upload outcome.\n",
    "4.\tExecution Time Measurement:\n",
    "o\tCode Execution Time: Measure the time taken to perform the main operations (data retrieval + join operation). Print this time after the join operation is complete.\n",
    "o\tPipeline Execution Time: Measure the total execution time of the entire script (from the beginning until after the upload to httpbin). Print this total time at the end of the script. Use Python's time module.\n",
    "5.\tUpload Result:\n",
    "o\tTake the resulting joined list of dictionaries from the join operation.\n",
    "o\tSerialize it into JSON format.\n",
    "o\tMake an HTTP POST request to the https://httpbin.org/post endpoint, sending the resulting joined JSON data in the request body.\n",
    "o\tVerify the response from httpbin.org (e.g., check the status code) and log the outcome of the upload operation.\n"
   ]
  },
  {
   "cell_type": "code",
   "execution_count": 0,
   "metadata": {
    "application/vnd.databricks.v1+cell": {
     "cellMetadata": {
      "byteLimit": 2048000,
      "rowLimit": 10000
     },
     "inputWidgets": {},
     "nuid": "acadff3a-4609-4a37-a316-cd5989c71be2",
     "showTitle": false,
     "tableResultSettingsMap": {},
     "title": ""
    }
   },
   "outputs": [],
   "source": [
    "import requests\n",
    "import json\n",
    "import logging\n",
    "import time\n",
    "\n",
    "# Define API endpoint URLs\n",
    "LAUNCHES_API_URL = \"https://api.spacexdata.com/v3/launches\"\n",
    "ROCKETS_API_URL = \"https://api.spacexdata.com/v3/rockets\"\n",
    "\n",
    "# Configure logging\n",
    "logging.basicConfig(level=logging.INFO)\n",
    "logger = logging.getLogger(__name__)\n",
    "\n",
    "# Record start time of the entire script\n",
    "start_time = time.time()\n",
    "\n",
    "def retrieve_data(url):\n",
    "    try:\n",
    "        response = requests.get(url, timeout=10)\n",
    "        response.raise_for_status()\n",
    "        return response.json()\n",
    "    except requests.exceptions.RequestException as e:\n",
    "        logger.error(f\"Error retrieving data from {url}: {e}\")\n",
    "        return []\n",
    "\n",
    "def join_launches_with_rockets(launches, rockets):\n",
    "    rocket_dict = {rocket['rocket_id']: rocket['rocket_name'] for rocket in rockets}\n",
    "    joined_launches = []\n",
    "    for launch in launches:\n",
    "        rocket_id = launch.get('rocket', {}).get('rocket_id')\n",
    "        if rocket_id in rocket_dict:\n",
    "            launch['rocket_name'] = rocket_dict[rocket_id]\n",
    "        joined_launches.append(launch)\n",
    "    return joined_launches\n",
    "\n",
    "def upload_data(data):\n",
    "    try:\n",
    "        response = requests.post('https://httpbin.org/post', json=data)\n",
    "        response.raise_for_status()\n",
    "        logger.info(f\"Upload outcome: {response.json()['data']}\")\n",
    "    except requests.exceptions.RequestException as e:\n",
    "        logger.error(f\"Error uploading data: {e}\")\n",
    "\n",
    "def main():\n",
    "    # Retrieve launches data\n",
    "    logger.info(\"Starting data retrieval for launches\")\n",
    "    launches = retrieve_data(LAUNCHES_API_URL)\n",
    "    logger.info(f\"Number of launches retrieved: {len(launches)}\")\n",
    "\n",
    "    # Retrieve rockets data\n",
    "    logger.info(\"Starting data retrieval for rockets\")\n",
    "    rockets = retrieve_data(ROCKETS_API_URL)\n",
    "    logger.info(f\"Number of rockets retrieved: {len(rockets)}\")\n",
    "\n",
    "    # Record start time of the main operations\n",
    "    main_start_time = time.time()\n",
    "\n",
    "    # Perform join operation\n",
    "    logger.info(\"Starting join operation\")\n",
    "    joined_launches = join_launches_with_rockets(launches, rockets)\n",
    "    logger.info(\"Join operation complete\")\n",
    "    logger.info(f\"Number of records after join: {len(joined_launches)}\")\n",
    "\n",
    "    # Record end time of the main operations\n",
    "    main_end_time = time.time()\n",
    "    logger.info(f\"Time taken for main operations: {main_end_time - main_start_time} seconds\")\n",
    "\n",
    "    # Upload joined data\n",
    "    logger.info(\"Starting upload to httpbin\")\n",
    "    upload_data(joined_launches)\n",
    "\n",
    "# Run the main function\n",
    "main()\n",
    "\n",
    "# Record end time of the entire script\n",
    "end_time = time.time()\n",
    "logger.info(f\"Total execution time: {end_time - start_time} seconds\")\n"
   ]
  },
  {
   "cell_type": "code",
   "execution_count": 0,
   "metadata": {
    "application/vnd.databricks.v1+cell": {
     "cellMetadata": {},
     "inputWidgets": {},
     "nuid": "cae21227-82c2-4c10-aad4-5bff040bbf82",
     "showTitle": false,
     "tableResultSettingsMap": {},
     "title": ""
    }
   },
   "outputs": [],
   "source": []
  }
 ],
 "metadata": {
  "application/vnd.databricks.v1+notebook": {
   "computePreferences": null,
   "dashboards": [],
   "environmentMetadata": {
    "base_environment": "",
    "environment_version": "2"
   },
   "inputWidgetPreferences": null,
   "language": "python",
   "notebookMetadata": {
    "pythonIndentUnit": 4
   },
   "notebookName": "LLAMA",
   "widgets": {}
  },
  "language_info": {
   "name": "python"
  }
 },
 "nbformat": 4,
 "nbformat_minor": 0
}
