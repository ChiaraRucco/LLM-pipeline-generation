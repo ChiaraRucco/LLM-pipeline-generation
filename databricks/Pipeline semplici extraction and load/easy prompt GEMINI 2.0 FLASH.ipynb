{
 "cells": [
  {
   "cell_type": "markdown",
   "metadata": {
    "application/vnd.databricks.v1+cell": {
     "cellMetadata": {},
     "inputWidgets": {},
     "nuid": "f139fb76-a5a2-4df0-ae31-21efd44ab14d",
     "showTitle": false,
     "tableResultSettingsMap": {},
     "title": ""
    }
   },
   "source": [
    "##**PROMPT**\n",
    "Generate a pipeline in Databricks that: 1 Performs a GET request to space x launches API  2 POST the result to httpbin.org 3 includes error and time evaluation in the output"
   ]
  },
  {
   "cell_type": "code",
   "execution_count": 0,
   "metadata": {
    "application/vnd.databricks.v1+cell": {
     "cellMetadata": {
      "byteLimit": 2048000,
      "rowLimit": 10000
     },
     "inputWidgets": {},
     "nuid": "43739789-b859-46fc-b9af-43f309075523",
     "showTitle": false,
     "tableResultSettingsMap": {},
     "title": ""
    }
   },
   "outputs": [],
   "source": [
    "import requests\n",
    "import time\n",
    "\n",
    "# Step 1: Perform a GET request to SpaceX launches API\n",
    "start_time = time.time()\n",
    "try:\n",
    "    response = requests.get(\"https://api.spacexdata.com/v4/launches\")\n",
    "    response.raise_for_status()\n",
    "    spacex_data = response.json()\n",
    "    get_status = \"Success\"\n",
    "except requests.exceptions.RequestException as e:\n",
    "    spacex_data = None\n",
    "    get_status = f\"Failed: {e}\"\n",
    "\n",
    "get_time = time.time() - start_time\n",
    "\n",
    "# Step 2: POST the result to httpbin.org\n",
    "start_time = time.time()\n",
    "try:\n",
    "    post_response = requests.post(\"https://httpbin.org/post\", json=spacex_data)\n",
    "    post_response.raise_for_status()\n",
    "    post_status = \"Success\"\n",
    "except requests.exceptions.RequestException as e:\n",
    "    post_status = f\"Failed: {e}\"\n",
    "\n",
    "post_time = time.time() - start_time\n",
    "\n",
    "# Step 3: Include error and time evaluation in the output\n",
    "output = {\n",
    "    \"GET Request Status\": get_status,\n",
    "    \"GET Request Time\": get_time,\n",
    "    \"POST Request Status\": post_status,\n",
    "    \"POST Request Time\": post_time\n",
    "}\n",
    "\n",
    "display(output)"
   ]
  }
 ],
 "metadata": {
  "application/vnd.databricks.v1+notebook": {
   "computePreferences": null,
   "dashboards": [],
   "environmentMetadata": {
    "base_environment": "",
    "environment_version": "2"
   },
   "inputWidgetPreferences": null,
   "language": "python",
   "notebookMetadata": {
    "pythonIndentUnit": 4
   },
   "notebookName": "easy prompt GEMINI 2.0 FLASH",
   "widgets": {}
  },
  "language_info": {
   "name": "python"
  }
 },
 "nbformat": 4,
 "nbformat_minor": 0
}
