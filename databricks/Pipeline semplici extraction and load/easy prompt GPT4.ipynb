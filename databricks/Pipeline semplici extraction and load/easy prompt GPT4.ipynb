{
 "cells": [
  {
   "cell_type": "markdown",
   "metadata": {
    "application/vnd.databricks.v1+cell": {
     "cellMetadata": {},
     "inputWidgets": {},
     "nuid": "f139fb76-a5a2-4df0-ae31-21efd44ab14d",
     "showTitle": false,
     "tableResultSettingsMap": {},
     "title": ""
    }
   },
   "source": [
    "##**PROMPT**\n",
    "Generate a pipeline in Databricks that: 1 Performs a GET request to space x launches API  2 POST the result to httpbin.org 3 includes error and time evaluation in the output"
   ]
  },
  {
   "cell_type": "code",
   "execution_count": 0,
   "metadata": {
    "application/vnd.databricks.v1+cell": {
     "cellMetadata": {
      "byteLimit": 2048000,
      "rowLimit": 10000
     },
     "inputWidgets": {},
     "nuid": "ffadbb2f-38ae-4ba9-8757-4c3f981869d6",
     "showTitle": false,
     "tableResultSettingsMap": {},
     "title": ""
    }
   },
   "outputs": [],
   "source": [
    "import requests\n",
    "import time\n",
    "import json\n",
    "\n",
    "# Function to fetch the latest SpaceX launch data\n",
    "def fetch_spacex_data():\n",
    "    url = \"https://api.spacexdata.com/v5/launches/latest\"\n",
    "    try:\n",
    "        start_time = time.time()\n",
    "        response = requests.get(url)\n",
    "        response.raise_for_status()  # Raise error for HTTP errors\n",
    "        elapsed_time = time.time() - start_time\n",
    "        print(f\"GET request successful! Time taken: {elapsed_time:.2f} seconds\")\n",
    "        return response.json(), elapsed_time\n",
    "    except requests.exceptions.RequestException as e:\n",
    "        print(f\"Error fetching SpaceX data: {e}\")\n",
    "        return None, None\n",
    "\n",
    "# Function to send data to httpbin.org\n",
    "def post_to_httpbin(data):\n",
    "    url = \"https://httpbin.org/post\"\n",
    "    try:\n",
    "        start_time = time.time()\n",
    "        response = requests.post(url, json=data)\n",
    "        response.raise_for_status()\n",
    "        elapsed_time = time.time() - start_time\n",
    "        print(f\"POST request successful! Time taken: {elapsed_time:.2f} seconds\")\n",
    "        return response.json(), elapsed_time\n",
    "    except requests.exceptions.RequestException as e:\n",
    "        print(f\"Error posting data: {e}\")\n",
    "        return None, None\n",
    "\n",
    "if __name__ == \"__main__\":\n",
    "    # Step 1: Fetch SpaceX data\n",
    "    spacex_data, get_time = fetch_spacex_data()\n",
    "    if spacex_data:\n",
    "        \n",
    "        # Step 2: Post data to httpbin.org\n",
    "        httpbin_response, post_time = post_to_httpbin(spacex_data)\n",
    "        \n",
    "        # Summary Output\n",
    "        print(\"\\n=== Pipeline Summary ===\")\n",
    "        print(f\"GET request time: {get_time:.2f} seconds\")\n",
    "        print(f\"POST request time: {post_time:.2f} seconds\")\n",
    "        print(\"HttpBin Response:\", json.dumps(httpbin_response, indent=2))\n",
    "    else:\n",
    "        print(\"Pipeline failed at GET request stage.\")\n"
   ]
  }
 ],
 "metadata": {
  "application/vnd.databricks.v1+notebook": {
   "computePreferences": null,
   "dashboards": [],
   "environmentMetadata": {
    "base_environment": "",
    "environment_version": "2"
   },
   "inputWidgetPreferences": null,
   "language": "python",
   "notebookMetadata": {
    "pythonIndentUnit": 4
   },
   "notebookName": "easy prompt GPT4",
   "widgets": {}
  },
  "language_info": {
   "name": "python"
  }
 },
 "nbformat": 4,
 "nbformat_minor": 0
}
