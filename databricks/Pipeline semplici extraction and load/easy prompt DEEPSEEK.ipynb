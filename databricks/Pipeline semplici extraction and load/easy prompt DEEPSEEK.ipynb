{
 "cells": [
  {
   "cell_type": "markdown",
   "metadata": {
    "application/vnd.databricks.v1+cell": {
     "cellMetadata": {},
     "inputWidgets": {},
     "nuid": "f139fb76-a5a2-4df0-ae31-21efd44ab14d",
     "showTitle": false,
     "tableResultSettingsMap": {},
     "title": ""
    }
   },
   "source": [
    "##**PROMPT**\n",
    "Generate a pipeline in Databricks that: 1 Performs a GET request to space x launches API  2 POST the result to httpbin.org 3 includes error and time evaluation in the output"
   ]
  },
  {
   "cell_type": "code",
   "execution_count": 0,
   "metadata": {
    "application/vnd.databricks.v1+cell": {
     "cellMetadata": {
      "byteLimit": 2048000,
      "rowLimit": 10000
     },
     "inputWidgets": {},
     "nuid": "4f107c40-d6d0-4f13-a024-3468a72a3c64",
     "showTitle": false,
     "tableResultSettingsMap": {},
     "title": ""
    }
   },
   "outputs": [],
   "source": [
    "import requests\n",
    "import time\n",
    "import json\n",
    "\n",
    "# Define the URLs\n",
    "spacex_url = \"https://api.spacexdata.com/v4/launches\"\n",
    "httpbin_url = \"https://httpbin.org/post\"\n",
    "\n",
    "# Function to perform GET request to SpaceX API\n",
    "def get_spacex_launches():\n",
    "    try:\n",
    "        start_time = time.time()\n",
    "        response = requests.get(spacex_url)\n",
    "        response.raise_for_status()  # Raise an error for bad status codes\n",
    "        end_time = time.time()\n",
    "        elapsed_time = end_time - start_time\n",
    "        return response.json(), elapsed_time, None\n",
    "    except requests.exceptions.RequestException as e:\n",
    "        return None, None, str(e)\n",
    "\n",
    "# Function to perform POST request to httpbin.org\n",
    "def post_to_httpbin(data):\n",
    "    try:\n",
    "        start_time = time.time()\n",
    "        response = requests.post(httpbin_url, json=data)\n",
    "        response.raise_for_status()\n",
    "        end_time = time.time()\n",
    "        elapsed_time = end_time - start_time\n",
    "        return response.json(), elapsed_time, None\n",
    "    except requests.exceptions.RequestException as e:\n",
    "        return None, None, str(e)\n",
    "\n",
    "# Main pipeline\n",
    "def main():\n",
    "    # Step 1: GET request to SpaceX API\n",
    "    spacex_data, get_time, get_error = get_spacex_launches()\n",
    "    \n",
    "    if get_error:\n",
    "        print(f\"Error fetching SpaceX data: {get_error}\")\n",
    "        return\n",
    "    \n",
    "    print(f\"Successfully fetched SpaceX data in {get_time:.2f} seconds.\")\n",
    "    \n",
    "    # Step 2: POST request to httpbin.org\n",
    "    httpbin_response, post_time, post_error = post_to_httpbin(spacex_data)\n",
    "    \n",
    "    if post_error:\n",
    "        print(f\"Error posting data to httpbin: {post_error}\")\n",
    "        return\n",
    "    \n",
    "    print(f\"Successfully posted data to httpbin in {post_time:.2f} seconds.\")\n",
    "    print(\"httpbin response:\", json.dumps(httpbin_response, indent=2))\n",
    "\n",
    "# Run the pipeline\n",
    "main()\n"
   ]
  },
  {
   "cell_type": "code",
   "execution_count": 0,
   "metadata": {
    "application/vnd.databricks.v1+cell": {
     "cellMetadata": {},
     "inputWidgets": {},
     "nuid": "fcbf80dd-e79c-4073-bf93-c7eabcadd78a",
     "showTitle": false,
     "tableResultSettingsMap": {},
     "title": ""
    }
   },
   "outputs": [],
   "source": []
  }
 ],
 "metadata": {
  "application/vnd.databricks.v1+notebook": {
   "computePreferences": null,
   "dashboards": [],
   "environmentMetadata": {
    "base_environment": "",
    "environment_version": "2"
   },
   "inputWidgetPreferences": null,
   "language": "python",
   "notebookMetadata": {
    "pythonIndentUnit": 4
   },
   "notebookName": "easy prompt DEEPSEEK",
   "widgets": {}
  },
  "language_info": {
   "name": "python"
  }
 },
 "nbformat": 4,
 "nbformat_minor": 0
}
