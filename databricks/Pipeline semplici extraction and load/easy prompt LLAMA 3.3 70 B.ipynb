{
 "cells": [
  {
   "cell_type": "markdown",
   "metadata": {
    "application/vnd.databricks.v1+cell": {
     "cellMetadata": {},
     "inputWidgets": {},
     "nuid": "f139fb76-a5a2-4df0-ae31-21efd44ab14d",
     "showTitle": false,
     "tableResultSettingsMap": {},
     "title": ""
    }
   },
   "source": [
    "##**PROMPT**\n",
    "Generate a pipeline in Databricks that: 1 Performs a GET request to space x launches API  2 POST the result to httpbin.org 3 includes error and time evaluation in the output"
   ]
  },
  {
   "cell_type": "code",
   "execution_count": 0,
   "metadata": {
    "application/vnd.databricks.v1+cell": {
     "cellMetadata": {
      "byteLimit": 2048000,
      "rowLimit": 10000
     },
     "inputWidgets": {},
     "nuid": "6328a4a5-1c27-4b00-a5d7-9c9b7cad8d50",
     "showTitle": false,
     "tableResultSettingsMap": {},
     "title": ""
    }
   },
   "outputs": [],
   "source": [
    "from pyspark.sql import SparkSession\n",
    "import requests\n",
    "import time\n",
    "from datetime import timedelta\n",
    "\n",
    "# Create a SparkSession\n",
    "spark = SparkSession.builder.appName(\"SpaceX Launches API Pipeline\").getOrCreate()\n",
    "\n",
    "# Function to perform GET request to SpaceX launches API\n",
    "def get_spacex_launches():\n",
    "    try:\n",
    "        start_time = time.time()\n",
    "        response = requests.get(\"https://api.spacex.com/v4/launches\")\n",
    "        end_time = time.time()\n",
    "        elapsed_time = timedelta(seconds=end_time - start_time)\n",
    "        if response.status_code == 200:\n",
    "            return response.json(), elapsed_time\n",
    "        else:\n",
    "            return None, elapsed_time\n",
    "    except Exception as e:\n",
    "        return None, None\n",
    "\n",
    "# Function to post result to httpbin.org\n",
    "def post_to_httpbin(data):\n",
    "    try:\n",
    "        start_time = time.time()\n",
    "        response = requests.post(\"https://httpbin.org/post\", json=data)\n",
    "        end_time = time.time()\n",
    "        elapsed_time = timedelta(seconds=end_time - start_time)\n",
    "        if response.status_code == 200:\n",
    "            return response.json(), elapsed_time\n",
    "        else:\n",
    "            return None, elapsed_time\n",
    "    except Exception as e:\n",
    "        return None, None\n",
    "\n",
    "# Main function\n",
    "def main():\n",
    "    spacex_launches, get_elapsed_time = get_spacex_launches()\n",
    "    if spacex_launches is not None:\n",
    "        httpbin_response, post_elapsed_time = post_to_httpbin(spacex_launches)\n",
    "        if httpbin_response is not None:\n",
    "            print(\"GET request to SpaceX launches API successful\")\n",
    "            print(f\"Elapsed time for GET request: {get_elapsed_time}\")\n",
    "            print(\"POST request to httpbin.org successful\")\n",
    "            print(f\"Elapsed time for POST request: {post_elapsed_time}\")\n",
    "            print(\"httpbin.org response:\")\n",
    "            print(httpbin_response)\n",
    "        else:\n",
    "            print(\"Error posting to httpbin.org\")\n",
    "            print(f\"Elapsed time for POST request: {post_elapsed_time}\")\n",
    "    else:\n",
    "        print(\"Error getting SpaceX launches\")\n",
    "        print(f\"Elapsed time for GET request: {get_elapsed_time}\")\n",
    "\n",
    "# Run the main function\n",
    "main()\n"
   ]
  },
  {
   "cell_type": "markdown",
   "metadata": {
    "application/vnd.databricks.v1+cell": {
     "cellMetadata": {},
     "inputWidgets": {},
     "nuid": "69d76cfa-3e25-47e2-9fd4-98d50cd7cfbd",
     "showTitle": false,
     "tableResultSettingsMap": {},
     "title": ""
    }
   },
   "source": [
    "Il codice non ha utilizzato l'API giusta\n"
   ]
  },
  {
   "cell_type": "code",
   "execution_count": 0,
   "metadata": {
    "application/vnd.databricks.v1+cell": {
     "cellMetadata": {
      "byteLimit": 2048000,
      "rowLimit": 10000
     },
     "inputWidgets": {},
     "nuid": "1d5e4bbe-90c8-4070-9ae8-98b01dfd7db6",
     "showTitle": false,
     "tableResultSettingsMap": {},
     "title": ""
    }
   },
   "outputs": [],
   "source": [
    "from pyspark.sql import SparkSession\n",
    "import requests\n",
    "import time\n",
    "from datetime import timedelta\n",
    "\n",
    "# Create a SparkSession\n",
    "spark = SparkSession.builder.appName(\"SpaceX Launches API Pipeline\").getOrCreate()\n",
    "\n",
    "# Function to perform GET request to SpaceX launches API\n",
    "def get_spacex_launches():\n",
    "    try:\n",
    "        start_time = time.time()\n",
    "        response = requests.get(\"https://api.spacex.com/v4/launches\")\n",
    "        end_time = time.time()\n",
    "        elapsed_time = timedelta(seconds=end_time - start_time)\n",
    "        response.raise_for_status()  # Raise an exception for bad status codes\n",
    "        return response.json(), elapsed_time\n",
    "    except requests.exceptions.HTTPError as errh:\n",
    "        print(f\"HTTP Error: {errh}\")\n",
    "        return None, None\n",
    "    except requests.exceptions.ConnectionError as errc:\n",
    "        print(f\"Error Connecting: {errc}\")\n",
    "        return None, None\n",
    "    except requests.exceptions.Timeout as errt:\n",
    "        print(f\"Timeout Error: {errt}\")\n",
    "        return None, None\n",
    "    except requests.exceptions.RequestException as err:\n",
    "        print(f\"Something went wrong: {err}\")\n",
    "        return None, None\n",
    "\n",
    "# Function to post result to httpbin.org\n",
    "def post_to_httpbin(data):\n",
    "    try:\n",
    "        start_time = time.time()\n",
    "        response = requests.post(\"https://httpbin.org/post\", json=data)\n",
    "        end_time = time.time()\n",
    "        elapsed_time = timedelta(seconds=end_time - start_time)\n",
    "        response.raise_for_status()  # Raise an exception for bad status codes\n",
    "        return response.json(), elapsed_time\n",
    "    except requests.exceptions.HTTPError as errh:\n",
    "        print(f\"HTTP Error: {errh}\")\n",
    "        return None, None\n",
    "    except requests.exceptions.ConnectionError as errc:\n",
    "        print(f\"Error Connecting: {errc}\")\n",
    "        return None, None\n",
    "    except requests.exceptions.Timeout as errt:\n",
    "        print(f\"Timeout Error: {errt}\")\n",
    "        return None, None\n",
    "    except requests.exceptions.RequestException as err:\n",
    "        print(f\"Something went wrong: {err}\")\n",
    "        return None, None\n",
    "\n",
    "# Main function\n",
    "def main():\n",
    "    spacex_launches, get_elapsed_time = get_spacex_launches()\n",
    "    if spacex_launches is not None:\n",
    "        httpbin_response, post_elapsed_time = post_to_httpbin(spacex_launches)\n",
    "        if httpbin_response is not None:\n",
    "            print(\"GET request to SpaceX launches API successful\")\n",
    "            print(f\"Elapsed time for GET request: {get_elapsed_time}\")\n",
    "            print(\"POST request to httpbin.org successful\")\n",
    "            print(f\"Elapsed time for POST request: {post_elapsed_time}\")\n",
    "            print(\"httpbin.org response:\")\n",
    "            print(httpbin_response)\n",
    "        else:\n",
    "            print(\"Error posting to httpbin.org\")\n",
    "            print(f\"Elapsed time for POST request: {post_elapsed_time}\")\n",
    "    else:\n",
    "        print(\"Error getting SpaceX launches\")\n",
    "        print(f\"Elapsed time for GET request: {get_elapsed_time}\")\n",
    "\n",
    "# Run the main function\n",
    "main()\n"
   ]
  },
  {
   "cell_type": "markdown",
   "metadata": {
    "application/vnd.databricks.v1+cell": {
     "cellMetadata": {},
     "inputWidgets": {},
     "nuid": "8919fdb7-78ae-4b97-b597-61ab2daecda8",
     "showTitle": false,
     "tableResultSettingsMap": {},
     "title": ""
    }
   },
   "source": [
    "incollando l'errore non mi ha risolto il problema.\n",
    "proviamo a specificare l'errore poichè sappiamo cos'è\n",
    "## PROMPT\n",
    "probabilmente il link API non è quello giusto, potresti sistemarlo"
   ]
  },
  {
   "cell_type": "code",
   "execution_count": 0,
   "metadata": {
    "application/vnd.databricks.v1+cell": {
     "cellMetadata": {
      "byteLimit": 2048000,
      "rowLimit": 10000
     },
     "inputWidgets": {},
     "nuid": "1d13d38e-db17-4d1a-b4b9-d9757c77ab3e",
     "showTitle": false,
     "tableResultSettingsMap": {},
     "title": ""
    }
   },
   "outputs": [],
   "source": [
    "from pyspark.sql import SparkSession\n",
    "import requests\n",
    "import time\n",
    "from datetime import timedelta\n",
    "\n",
    "# Create a SparkSession\n",
    "spark = SparkSession.builder.appName(\"SpaceX Launches API Pipeline\").getOrCreate()\n",
    "\n",
    "# Function to perform GET request to SpaceX launches API\n",
    "def get_spacex_launches():\n",
    "    try:\n",
    "        start_time = time.time()\n",
    "        response = requests.get(\"https://api.spacexdata.com/v4/launches\")\n",
    "        end_time = time.time()\n",
    "        elapsed_time = timedelta(seconds=end_time - start_time)\n",
    "        response.raise_for_status()  # Raise an exception for bad status codes\n",
    "        return response.json(), elapsed_time\n",
    "    except requests.exceptions.HTTPError as errh:\n",
    "        print(f\"HTTP Error: {errh}\")\n",
    "        return None, None\n",
    "    except requests.exceptions.ConnectionError as errc:\n",
    "        print(f\"Error Connecting: {errc}\")\n",
    "        return None, None\n",
    "    except requests.exceptions.Timeout as errt:\n",
    "        print(f\"Timeout Error: {errt}\")\n",
    "        return None, None\n",
    "    except requests.exceptions.RequestException as err:\n",
    "        print(f\"Something went wrong: {err}\")\n",
    "        return None, None\n",
    "\n",
    "# Function to post result to httpbin.org\n",
    "def post_to_httpbin(data):\n",
    "    try:\n",
    "        start_time = time.time()\n",
    "        response = requests.post(\"https://httpbin.org/post\", json=data)\n",
    "        end_time = time.time()\n",
    "        elapsed_time = timedelta(seconds=end_time - start_time)\n",
    "        response.raise_for_status()  # Raise an exception for bad status codes\n",
    "        return response.json(), elapsed_time\n",
    "    except requests.exceptions.HTTPError as errh:\n",
    "        print(f\"HTTP Error: {errh}\")\n",
    "        return None, None\n",
    "    except requests.exceptions.ConnectionError as errc:\n",
    "        print(f\"Error Connecting: {errc}\")\n",
    "        return None, None\n",
    "    except requests.exceptions.Timeout as errt:\n",
    "        print(f\"Timeout Error: {errt}\")\n",
    "        return None, None\n",
    "    except requests.exceptions.RequestException as err:\n",
    "        print(f\"Something went wrong: {err}\")\n",
    "        return None, None\n",
    "\n",
    "# Main function\n",
    "def main():\n",
    "    spacex_launches, get_elapsed_time = get_spacex_launches()\n",
    "    if spacex_launches is not None:\n",
    "        httpbin_response, post_elapsed_time = post_to_httpbin(spacex_launches)\n",
    "        if httpbin_response is not None:\n",
    "            print(\"GET request to SpaceX launches API successful\")\n",
    "            print(f\"Elapsed time for GET request: {get_elapsed_time}\")\n",
    "            print(\"POST request to httpbin.org successful\")\n",
    "            print(f\"Elapsed time for POST request: {post_elapsed_time}\")\n",
    "            print(\"httpbin.org response:\")\n",
    "            print(httpbin_response)\n",
    "        else:\n",
    "            print(\"Error posting to httpbin.org\")\n",
    "            print(f\"Elapsed time for POST request: {post_elapsed_time}\")\n",
    "    else:\n",
    "        print(\"Error getting SpaceX launches\")\n",
    "        print(f\"Elapsed time for GET request: {get_elapsed_time}\")\n",
    "\n",
    "# Run the main function\n",
    "main()\n"
   ]
  },
  {
   "cell_type": "code",
   "execution_count": 0,
   "metadata": {
    "application/vnd.databricks.v1+cell": {
     "cellMetadata": {},
     "inputWidgets": {},
     "nuid": "a225f0d6-8a9a-418b-bb34-2ffc8c95e9f2",
     "showTitle": false,
     "tableResultSettingsMap": {},
     "title": ""
    }
   },
   "outputs": [],
   "source": []
  }
 ],
 "metadata": {
  "application/vnd.databricks.v1+notebook": {
   "computePreferences": null,
   "dashboards": [],
   "environmentMetadata": {
    "base_environment": "",
    "environment_version": "2"
   },
   "inputWidgetPreferences": null,
   "language": "python",
   "notebookMetadata": {
    "pythonIndentUnit": 4
   },
   "notebookName": "easy prompt LLAMA 3.3 70 B",
   "widgets": {}
  },
  "language_info": {
   "name": "python"
  }
 },
 "nbformat": 4,
 "nbformat_minor": 0
}
