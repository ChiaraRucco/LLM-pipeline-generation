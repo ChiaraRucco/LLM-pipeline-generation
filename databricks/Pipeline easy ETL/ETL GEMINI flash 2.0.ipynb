{
 "cells": [
  {
   "cell_type": "markdown",
   "metadata": {
    "application/vnd.databricks.v1+cell": {
     "cellMetadata": {},
     "inputWidgets": {},
     "nuid": "c1137619-5355-4fef-890f-52fe0a9dd7a4",
     "showTitle": false,
     "tableResultSettingsMap": {},
     "title": ""
    }
   },
   "source": [
    "## PROMPT\n",
    "Generate a pipeline for databricks that takes data from an API (https://api.spacexdata.com/v3/launches), performs a basic transformation task, and posts the result to another API (https://httpbin.org/post). Add prints for debugging the activities and display the execution time of the entire cycle"
   ]
  },
  {
   "cell_type": "code",
   "execution_count": 0,
   "metadata": {
    "application/vnd.databricks.v1+cell": {
     "cellMetadata": {
      "byteLimit": 2048000,
      "rowLimit": 10000
     },
     "inputWidgets": {},
     "nuid": "d94418ec-778f-42d1-a7de-38abc66fc65d",
     "showTitle": false,
     "tableResultSettingsMap": {},
     "title": ""
    }
   },
   "outputs": [],
   "source": [
    "# Databricks Notebook - Python\n",
    "\n",
    "# --- Configuration ---\n",
    "api_source_url = \"https://api.spacexdata.com/v3/launches\"\n",
    "api_target_url = \"https://httpbin.org/post\"\n",
    "\n",
    "# --- Imports ---\n",
    "import requests\n",
    "import json\n",
    "import time\n",
    "from datetime import datetime\n",
    "\n",
    "# --- Helper Functions ---\n",
    "\n",
    "def fetch_data(url):\n",
    "    \"\"\"Fetches data from the given API URL.\"\"\"\n",
    "    print(f\"Fetching data from: {url}\")\n",
    "    try:\n",
    "        response = requests.get(url)\n",
    "        response.raise_for_status()  # Raise an exception for bad status codes\n",
    "        data = response.json()\n",
    "        print(f\"Successfully fetched {len(data)} records.\")\n",
    "        return data\n",
    "    except requests.exceptions.RequestException as e:\n",
    "        print(f\"Error fetching data from {url}: {e}\")\n",
    "        return None\n",
    "    except json.JSONDecodeError as e:\n",
    "        print(f\"Error decoding JSON from {url}: {e}\")\n",
    "        return None\n",
    "\n",
    "def transform_data(data):\n",
    "    \"\"\"Performs a basic transformation on the fetched data.\"\"\"\n",
    "    if not data:\n",
    "        print(\"No data to transform.\")\n",
    "        return None\n",
    "\n",
    "    transformed_data = []\n",
    "    print(\"Starting data transformation...\")\n",
    "    for item in data:\n",
    "        transformed_item = {\n",
    "            \"flight_number\": item.get(\"flight_number\"),\n",
    "            \"mission_name\": item.get(\"mission_name\"),\n",
    "            \"launch_date_utc\": item.get(\"launch_date_utc\"),\n",
    "            \"rocket_name\": item.get(\"rocket\", {}).get(\"rocket_name\")\n",
    "        }\n",
    "        transformed_data.append(transformed_item)\n",
    "    print(f\"Successfully transformed {len(transformed_data)} records.\")\n",
    "    return transformed_data\n",
    "\n",
    "def post_data(url, data):\n",
    "    \"\"\"Posts the given data to the target API URL.\"\"\"\n",
    "    if not data:\n",
    "        print(\"No data to post.\")\n",
    "        return None\n",
    "\n",
    "    print(f\"Posting data to: {url}\")\n",
    "    try:\n",
    "        headers = {'Content-Type': 'application/json'}\n",
    "        response = requests.post(url, json=data, headers=headers)\n",
    "        response.raise_for_status()\n",
    "        print(f\"Successfully posted data. Status code: {response.status_code}\")\n",
    "        print(f\"Response content: {response.text}\")\n",
    "        return response.json()\n",
    "    except requests.exceptions.RequestException as e:\n",
    "        print(f\"Error posting data to {url}: {e}\")\n",
    "        return None\n",
    "\n",
    "# --- Main Pipeline ---\n",
    "\n",
    "if __name__ == \"__main__\":\n",
    "    start_time = time.time()\n",
    "    print(\"--- Starting SpaceX Data Pipeline ---\")\n",
    "\n",
    "    # 1. Fetch Data from SpaceX API\n",
    "    raw_data = fetch_data(api_source_url)\n",
    "\n",
    "    if raw_data:\n",
    "        # 2. Transform Data\n",
    "        transformed_data = transform_data(raw_data)\n",
    "\n",
    "        if transformed_data:\n",
    "            # 3. Post Transformed Data to httpbin.org\n",
    "            print(\"\\n--- Posting Transformed Data ---\")\n",
    "            post_response = post_data(api_target_url, transformed_data)\n",
    "            if post_response:\n",
    "                print(\"\\nData successfully posted to the target API.\")\n",
    "            else:\n",
    "                print(\"\\nFailed to post data to the target API.\")\n",
    "        else:\n",
    "            print(\"\\nNo data to post after transformation.\")\n",
    "    else:\n",
    "        print(\"\\nFailed to fetch data from the source API.\")\n",
    "\n",
    "    end_time = time.time()\n",
    "    execution_time = end_time - start_time\n",
    "    print(f\"\\n--- Pipeline Finished ---\")\n",
    "    print(f\"Execution Time: {execution_time:.2f} seconds\")"
   ]
  },
  {
   "cell_type": "code",
   "execution_count": 0,
   "metadata": {
    "application/vnd.databricks.v1+cell": {
     "cellMetadata": {},
     "inputWidgets": {},
     "nuid": "65e174cc-6e76-412b-85e9-f64ed6ea46f4",
     "showTitle": false,
     "tableResultSettingsMap": {},
     "title": ""
    }
   },
   "outputs": [],
   "source": []
  }
 ],
 "metadata": {
  "application/vnd.databricks.v1+notebook": {
   "computePreferences": null,
   "dashboards": [],
   "environmentMetadata": {
    "base_environment": "",
    "environment_version": "2"
   },
   "inputWidgetPreferences": null,
   "language": "python",
   "notebookMetadata": {
    "pythonIndentUnit": 4
   },
   "notebookName": "ETL GEMINI flash 2.0",
   "widgets": {}
  },
  "language_info": {
   "name": "python"
  }
 },
 "nbformat": 4,
 "nbformat_minor": 0
}
