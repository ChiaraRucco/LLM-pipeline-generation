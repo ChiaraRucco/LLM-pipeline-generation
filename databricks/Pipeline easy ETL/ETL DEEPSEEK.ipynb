{
 "cells": [
  {
   "cell_type": "markdown",
   "metadata": {
    "application/vnd.databricks.v1+cell": {
     "cellMetadata": {},
     "inputWidgets": {},
     "nuid": "c1137619-5355-4fef-890f-52fe0a9dd7a4",
     "showTitle": false,
     "tableResultSettingsMap": {},
     "title": ""
    }
   },
   "source": [
    "## PROMPT\n",
    "Generate a pipeline for databricks that takes data from an API (https://api.spacexdata.com/v3/launches), performs a basic transformation task, and posts the result to another API (https://httpbin.org/post). Add prints for debugging the activities and display the execution time of the entire cycle"
   ]
  },
  {
   "cell_type": "code",
   "execution_count": 0,
   "metadata": {
    "application/vnd.databricks.v1+cell": {
     "cellMetadata": {
      "byteLimit": 2048000,
      "rowLimit": 10000
     },
     "inputWidgets": {},
     "nuid": "0bc77bf7-256d-4141-9c73-dc8ec747cff2",
     "showTitle": false,
     "tableResultSettingsMap": {},
     "title": ""
    }
   },
   "outputs": [],
   "source": [
    "import requests\n",
    "import json\n",
    "import time\n",
    "\n",
    "# Start the timer to measure execution time\n",
    "start_time = time.time()\n",
    "\n",
    "# Step 1: Fetch data from the SpaceX API\n",
    "print(\"Fetching data from SpaceX API...\")\n",
    "spacex_url = \"https://api.spacexdata.com/v3/launches\"\n",
    "response = requests.get(spacex_url)\n",
    "\n",
    "if response.status_code == 200:\n",
    "    print(\"Data fetched successfully!\")\n",
    "    launches_data = response.json()\n",
    "else:\n",
    "    print(f\"Failed to fetch data. Status code: {response.status_code}\")\n",
    "    exit()\n",
    "\n",
    "# Step 2: Perform a basic transformation task\n",
    "print(\"Performing transformation...\")\n",
    "# Example transformation: Extract only the mission name, launch date, and rocket name\n",
    "transformed_data = [\n",
    "    {\n",
    "        \"mission_name\": launch[\"mission_name\"],\n",
    "        \"launch_date_utc\": launch[\"launch_date_utc\"],\n",
    "        \"rocket_name\": launch[\"rocket\"][\"rocket_name\"]\n",
    "    }\n",
    "    for launch in launches_data\n",
    "]\n",
    "\n",
    "print(\"Transformation completed!\")\n",
    "print(\"Sample transformed data:\", json.dumps(transformed_data[:2], indent=2))  # Print first 2 entries for debugging\n",
    "\n",
    "# Step 3: Post the transformed data to another API\n",
    "print(\"Posting transformed data to https://httpbin.org/post...\")\n",
    "post_url = \"https://httpbin.org/post\"\n",
    "headers = {\"Content-Type\": \"application/json\"}\n",
    "post_response = requests.post(post_url, data=json.dumps(transformed_data), headers=headers)\n",
    "\n",
    "if post_response.status_code == 200:\n",
    "    print(\"Data posted successfully!\")\n",
    "    print(\"Response from httpbin:\", post_response.json())\n",
    "else:\n",
    "    print(f\"Failed to post data. Status code: {post_response.status_code}\")\n",
    "\n",
    "# Step 4: Calculate and display the execution time\n",
    "end_time = time.time()\n",
    "execution_time = end_time - start_time\n",
    "print(f\"Pipeline execution completed in {execution_time:.2f} seconds.\")\n"
   ]
  }
 ],
 "metadata": {
  "application/vnd.databricks.v1+notebook": {
   "computePreferences": null,
   "dashboards": [],
   "environmentMetadata": {
    "base_environment": "",
    "environment_version": "2"
   },
   "inputWidgetPreferences": null,
   "language": "python",
   "notebookMetadata": {
    "pythonIndentUnit": 4
   },
   "notebookName": "ETL DEEPSEEK",
   "widgets": {}
  },
  "language_info": {
   "name": "python"
  }
 },
 "nbformat": 4,
 "nbformat_minor": 0
}
