{
 "cells": [
  {
   "cell_type": "markdown",
   "metadata": {
    "application/vnd.databricks.v1+cell": {
     "cellMetadata": {},
     "inputWidgets": {},
     "nuid": "c1137619-5355-4fef-890f-52fe0a9dd7a4",
     "showTitle": false,
     "tableResultSettingsMap": {},
     "title": ""
    }
   },
   "source": [
    "## PROMPT\n",
    "Generate a pipeline for Databricks:\n",
    "* Get Data information from two web addresses:\n",
    "   * Space launches: https://api.spacexdata.com/v3/launches\n",
    "* Filter the list of launches based on launch year and launch success status.\n",
    "* Send the chosen information to the web address: https://httpbin.org/post\n",
    "* The script must provide status updates on its progress, report any errors encountered, confirm the outcome of the final data sending step, and measure/report execution times."
   ]
  },
  {
   "cell_type": "code",
   "execution_count": 0,
   "metadata": {
    "application/vnd.databricks.v1+cell": {
     "cellMetadata": {
      "byteLimit": 2048000,
      "rowLimit": 10000
     },
     "inputWidgets": {},
     "nuid": "55cb0913-c273-4963-b018-d50ff97cd9e5",
     "showTitle": false,
     "tableResultSettingsMap": {},
     "title": ""
    }
   },
   "outputs": [],
   "source": [
    "import requests\n",
    "import time\n",
    "import json\n",
    "from pyspark.sql import SparkSession\n",
    "\n",
    "# Initialize Spark Session\n",
    "spark = SparkSession.builder.getOrCreate()\n",
    "\n",
    "def fetch_space_x_data(url):\n",
    "    try:\n",
    "        response = requests.get(url)\n",
    "        response.raise_for_status()\n",
    "        return response.json()\n",
    "    except requests.exceptions.RequestException as e:\n",
    "        print(f\"Error fetching data: {e}\")\n",
    "        return None\n",
    "\n",
    "def filter_launch_data(data, year=2020):\n",
    "    filtered_data = [launch for launch in data if launch['launch_year'] >= year and launch['launch_success']]\n",
    "    return filtered_data\n",
    "\n",
    "def send_data_to_httpbin(data):\n",
    "    try:\n",
    "        response = requests.post('https://httpbin.org/post', json=data)\n",
    "        response.raise_for_status()\n",
    "        return response.json()\n",
    "    except requests.exceptions.RequestException as e:\n",
    "        print(f\"Error sending data to httpbin: {e}\")\n",
    "        return None\n",
    "\n",
    "start_time = time.time()\n",
    "\n",
    "space_x_url = \"https://api.spacexdata.com/v3/launches\"\n",
    "space_x_data = fetch_space_x_data(space_x_url)\n",
    "if space_x_data is not None:\n",
    "    print(\"Successfully fetched SpaceX launch data.\")\n",
    "else:\n",
    "    print(\"Failed to fetch SpaceX launch data.\")\n",
    "    exit(1)  # Exit if data fetching fails\n",
    "\n",
    "filtered_launches = filter_launch_data(space_x_data)\n",
    "print(f\"Number of successful launches from 2020 onwards: {len(filtered_launches)}\")\n",
    "\n",
    "send\n"
   ]
  },
  {
   "cell_type": "markdown",
   "metadata": {
    "application/vnd.databricks.v1+cell": {
     "cellMetadata": {
      "byteLimit": 2048000,
      "rowLimit": 10000
     },
     "inputWidgets": {},
     "nuid": "6073f74e-f688-496e-845c-b2c06d7d64f3",
     "showTitle": false,
     "tableResultSettingsMap": {},
     "title": ""
    }
   },
   "source": [
    "1 ITERATION\n"
   ]
  },
  {
   "cell_type": "code",
   "execution_count": 0,
   "metadata": {
    "application/vnd.databricks.v1+cell": {
     "cellMetadata": {
      "byteLimit": 2048000,
      "rowLimit": 10000
     },
     "inputWidgets": {},
     "nuid": "46fabcb6-0ea6-4440-8175-3d47482d5dd3",
     "showTitle": false,
     "tableResultSettingsMap": {},
     "title": ""
    }
   },
   "outputs": [],
   "source": [
    "import requests\n",
    "import time\n",
    "import json\n",
    "from pyspark.sql import SparkSession\n",
    "\n",
    "# Initialize Spark Session\n",
    "spark = SparkSession.builder.getOrCreate()\n",
    "\n",
    "def fetch_space_x_data(url):\n",
    "    try:\n",
    "        response = requests.get(url)\n",
    "        response.raise_for_status()\n",
    "        return response.json()\n",
    "    except requests.exceptions.RequestException as e:\n",
    "        print(f\"Error fetching data: {e}\")\n",
    "        return None\n",
    "\n",
    "def filter_launch_data(data, year=2020):\n",
    "    filtered_data = [launch for launch in data if int(launch['launch_year']) >= year and launch['launch_success']]\n",
    "    return filtered_data\n",
    "\n",
    "def send_data_to_httpbin(data):\n",
    "    try:\n",
    "        response = requests.post('https://httpbin.org/post', json=data)\n",
    "        response.raise_for_status()\n",
    "        return response.json()\n",
    "    except requests.exceptions.RequestException as e:\n",
    "        print(f\"Error sending data to httpbin: {e}\")\n",
    "        return None\n",
    "\n",
    "start_time = time.time()\n",
    "\n",
    "space_x_url = \"https://api.spacexdata.com/v3/launches\"\n",
    "space_x_data = fetch_space_x_data(space_x_url)\n",
    "if space_x_data is not None:\n",
    "    print(\"Successfully fetched SpaceX launch data.\")\n",
    "else:\n",
    "    print(\"Failed to fetch SpaceX launch data.\")\n",
    "    exit(1)  # Exit if data fetching fails\n",
    "\n",
    "filtered_launches = filter_launch_data(space_x_data)\n",
    "print(f\"Number of successful launches from 2020 onwards: {len(filtered_launches)}\")\n",
    "\n",
    "send_start_time = time.time()\n",
    "response = send_data_to_httpbin(filtered_launches)\n",
    "send_end_time = time.time()\n",
    "if response is not None:\n",
    "    print(\"Successfully sent data to httpbin.org.\")\n",
    "    print(f\"Response from httpbin: {response}\")\n",
    "else:\n",
    "    print(\"Failed to send data to httpbin.org.\")\n",
    "print(f\"Data sending took {send_end_time - send_start_time} seconds.\")\n",
    "\n",
    "end_time = time.time()\n",
    "print(f\"Total execution time: {end_time - start_time} seconds.\")\n"
   ]
  },
  {
   "cell_type": "code",
   "execution_count": 0,
   "metadata": {
    "application/vnd.databricks.v1+cell": {
     "cellMetadata": {},
     "inputWidgets": {},
     "nuid": "09f37f3b-813c-437c-85ec-37754aad763f",
     "showTitle": false,
     "tableResultSettingsMap": {},
     "title": ""
    }
   },
   "outputs": [],
   "source": []
  }
 ],
 "metadata": {
  "application/vnd.databricks.v1+notebook": {
   "computePreferences": null,
   "dashboards": [],
   "environmentMetadata": {
    "base_environment": "",
    "environment_version": "2"
   },
   "inputWidgetPreferences": null,
   "language": "python",
   "notebookMetadata": {
    "pythonIndentUnit": 4
   },
   "notebookName": "Filter Llama 3.3",
   "widgets": {}
  },
  "language_info": {
   "name": "python"
  }
 },
 "nbformat": 4,
 "nbformat_minor": 0
}
