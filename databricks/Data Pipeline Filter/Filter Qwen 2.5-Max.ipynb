{
 "cells": [
  {
   "cell_type": "markdown",
   "metadata": {
    "application/vnd.databricks.v1+cell": {
     "cellMetadata": {},
     "inputWidgets": {},
     "nuid": "c1137619-5355-4fef-890f-52fe0a9dd7a4",
     "showTitle": false,
     "tableResultSettingsMap": {},
     "title": ""
    }
   },
   "source": [
    "## PROMPT\n",
    "Generate a pipeline for Databricks:\n",
    "* Get Data information from two web addresses:\n",
    "   * Space launches: https://api.spacexdata.com/v3/launches\n",
    "* Filter the list of launches based on launch year and launch success status.\n",
    "* Send the chosen information to the web address: https://httpbin.org/post\n",
    "* The script must provide status updates on its progress, report any errors encountered, confirm the outcome of the final data sending step, and measure/report execution times."
   ]
  },
  {
   "cell_type": "code",
   "execution_count": 0,
   "metadata": {
    "application/vnd.databricks.v1+cell": {
     "cellMetadata": {
      "byteLimit": 2048000,
      "rowLimit": 10000
     },
     "inputWidgets": {},
     "nuid": "8881c113-1393-4b63-9297-3d530f91b32f",
     "showTitle": false,
     "tableResultSettingsMap": {},
     "title": ""
    }
   },
   "outputs": [],
   "source": [
    "import requests\n",
    "from datetime import datetime\n",
    "import time\n",
    "\n",
    "# Step 1: Define helper functions for logging and error handling\n",
    "def log_message(message):\n",
    "    \"\"\"Logs a message with a timestamp.\"\"\"\n",
    "    print(f\"[{datetime.now().strftime('%Y-%m-%d %H:%M:%S')}] {message}\")\n",
    "\n",
    "def measure_execution_time(start_time):\n",
    "    \"\"\"Calculates and logs the execution time.\"\"\"\n",
    "    elapsed_time = time.time() - start_time\n",
    "    log_message(f\"Execution time: {elapsed_time:.2f} seconds\")\n",
    "\n",
    "# Step 2: Fetch data from the SpaceX API\n",
    "def fetch_space_launches():\n",
    "    url = \"https://api.spacexdata.com/v3/launches\"\n",
    "    try:\n",
    "        log_message(\"Fetching space launch data...\")\n",
    "        response = requests.get(url)\n",
    "        response.raise_for_status()  # Raise an exception for HTTP errors\n",
    "        log_message(\"Data fetched successfully.\")\n",
    "        return response.json()\n",
    "    except requests.exceptions.RequestException as e:\n",
    "        log_message(f\"Error fetching data: {e}\")\n",
    "        raise\n",
    "\n",
    "# Step 3: Filter launches based on year and success status\n",
    "def filter_launches(launches, year, success_status):\n",
    "    log_message(f\"Filtering launches for year {year} with success status {success_status}.\")\n",
    "    filtered_launches = [\n",
    "        launch for launch in launches\n",
    "        if launch['launch_year'] == str(year) and launch['launch_success'] == success_status\n",
    "    ]\n",
    "    log_message(f\"Filtered {len(filtered_launches)} launches.\")\n",
    "    return filtered_launches\n",
    "\n",
    "# Step 4: Send filtered data to the target web address\n",
    "def send_data_to_web(filtered_launches):\n",
    "    url = \"https://httpbin.org/post\"\n",
    "    try:\n",
    "        log_message(\"Sending filtered data to the web address...\")\n",
    "        response = requests.post(url, json=filtered_launches)\n",
    "        response.raise_for_status()  # Raise an exception for HTTP errors\n",
    "        log_message(\"Data sent successfully.\")\n",
    "        log_message(f\"Response from server: {response.json()}\")\n",
    "    except requests.exceptions.RequestException as e:\n",
    "        log_message(f\"Error sending data: {e}\")\n",
    "        raise\n",
    "\n",
    "# Main pipeline function\n",
    "def main():\n",
    "    start_time = time.time()\n",
    "    \n",
    "    # Configuration parameters\n",
    "    target_year = 2020  # Example year to filter\n",
    "    success_status = True  # Example success status to filter\n",
    "    \n",
    "    try:\n",
    "        # Step 1: Fetch data\n",
    "        launches = fetch_space_launches()\n",
    "        \n",
    "        # Step 2: Filter data\n",
    "        filtered_launches = filter_launches(launches, target_year, success_status)\n",
    "        \n",
    "        # Step 3: Send data\n",
    "        if filtered_launches:\n",
    "            send_data_to_web(filtered_launches)\n",
    "        else:\n",
    "            log_message(\"No launches to send after filtering.\")\n",
    "    \n",
    "    except Exception as e:\n",
    "        log_message(f\"Pipeline failed with error: {e}\")\n",
    "    \n",
    "    finally:\n",
    "        # Measure and report execution time\n",
    "        measure_execution_time(start_time)\n",
    "\n",
    "# Run the pipeline\n",
    "if __name__ == \"__main__\":\n",
    "    main()"
   ]
  },
  {
   "cell_type": "code",
   "execution_count": 0,
   "metadata": {
    "application/vnd.databricks.v1+cell": {
     "cellMetadata": {},
     "inputWidgets": {},
     "nuid": "58c6f89a-6e7c-4eb2-ba75-e249618fecbe",
     "showTitle": false,
     "tableResultSettingsMap": {},
     "title": ""
    }
   },
   "outputs": [],
   "source": []
  }
 ],
 "metadata": {
  "application/vnd.databricks.v1+notebook": {
   "computePreferences": null,
   "dashboards": [],
   "environmentMetadata": {
    "base_environment": "",
    "environment_version": "2"
   },
   "inputWidgetPreferences": null,
   "language": "python",
   "notebookMetadata": {
    "pythonIndentUnit": 4
   },
   "notebookName": "Filter Qwen 2.5-Max",
   "widgets": {}
  },
  "language_info": {
   "name": "python"
  }
 },
 "nbformat": 4,
 "nbformat_minor": 0
}
