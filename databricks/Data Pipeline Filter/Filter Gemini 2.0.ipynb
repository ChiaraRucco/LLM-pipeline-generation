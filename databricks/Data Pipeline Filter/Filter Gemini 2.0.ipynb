{
 "cells": [
  {
   "cell_type": "markdown",
   "metadata": {
    "application/vnd.databricks.v1+cell": {
     "cellMetadata": {},
     "inputWidgets": {},
     "nuid": "c1137619-5355-4fef-890f-52fe0a9dd7a4",
     "showTitle": false,
     "tableResultSettingsMap": {},
     "title": ""
    }
   },
   "source": [
    "## PROMPT\n",
    "Generate a pipeline for Databricks:\n",
    "* Get Data information from two web addresses:\n",
    "   * Space launches: https://api.spacexdata.com/v3/launches\n",
    "* Filter the list of launches based on launch year and launch success status.\n",
    "* Send the chosen information to the web address: https://httpbin.org/post\n",
    "* The script must provide status updates on its progress, report any errors encountered, confirm the outcome of the final data sending step, and measure/report execution times.\n"
   ]
  },
  {
   "cell_type": "code",
   "execution_count": 0,
   "metadata": {
    "application/vnd.databricks.v1+cell": {
     "cellMetadata": {
      "byteLimit": 2048000,
      "rowLimit": 10000
     },
     "inputWidgets": {},
     "nuid": "65e174cc-6e76-412b-85e9-f64ed6ea46f4",
     "showTitle": false,
     "tableResultSettingsMap": {},
     "title": ""
    }
   },
   "outputs": [],
   "source": [
    "# Databricks Notebook\n",
    "\n",
    "# Import necessary libraries\n",
    "import requests\n",
    "import json\n",
    "import time\n",
    "\n",
    "# --- Define Parameters ---\n",
    "# Specify the launch year to filter by\n",
    "launch_year_filter = \"2020\"  # Example: Filter for launches in the year 2020\n",
    "# Specify the launch success status to filter by (True or False)\n",
    "launch_success_filter = True  # Example: Filter for successful launches\n",
    "\n",
    "# Target URL to receive the filtered data\n",
    "target_url = \"https://httpbin.org/post\"\n",
    "\n",
    "# Source URLs for data\n",
    "spacex_launches_url = \"https://api.spacexdata.com/v3/launches\"\n",
    "\n",
    "# --- Helper Functions ---\n",
    "\n",
    "def fetch_data_from_url(url):\n",
    "    \"\"\"\n",
    "    Fetches data from a given URL and returns it as a JSON object.\n",
    "    Reports status and errors.\n",
    "    \"\"\"\n",
    "    start_time = time.time()\n",
    "    print(f\"INFO: Starting data fetch from: {url}\")\n",
    "    try:\n",
    "        response = requests.get(url)\n",
    "        response.raise_for_status()  # Raise an exception for bad status codes\n",
    "        data = response.json()\n",
    "        end_time = time.time()\n",
    "        duration = end_time - start_time\n",
    "        print(f\"INFO: Successfully fetched data from {url} in {duration:.2f} seconds.\")\n",
    "        return data, duration\n",
    "    except requests.exceptions.RequestException as e:\n",
    "        end_time = time.time()\n",
    "        duration = end_time - start_time\n",
    "        error_message = f\"ERROR: Failed to fetch data from {url} in {duration:.2f} seconds. Error: {e}\"\n",
    "        print(error_message)\n",
    "        return None, duration\n",
    "\n",
    "def filter_launches(launches_data, year, success):\n",
    "    \"\"\"\n",
    "    Filters the list of launch data based on launch year and success status.\n",
    "    \"\"\"\n",
    "    start_time = time.time()\n",
    "    print(f\"INFO: Starting data filtering for year '{year}' and success status '{success}'.\")\n",
    "    filtered_launches = [\n",
    "        launch for launch in launches_data\n",
    "        if str(launch.get('launch_year')) == year and launch.get('launch_success') == success\n",
    "    ]\n",
    "    end_time = time.time()\n",
    "    duration = end_time - start_time\n",
    "    print(f\"INFO: Data filtering completed in {duration:.2f} seconds. Found {len(filtered_launches)} matching launches.\")\n",
    "    return filtered_launches, duration\n",
    "\n",
    "def send_data_to_url(url, data):\n",
    "    \"\"\"\n",
    "    Sends data to a given URL using HTTP POST and reports the outcome.\n",
    "    \"\"\"\n",
    "    start_time = time.time()\n",
    "    print(f\"INFO: Starting to send data to: {url}\")\n",
    "    try:\n",
    "        headers = {'Content-Type': 'application/json'}\n",
    "        response = requests.post(url, data=json.dumps(data), headers=headers)\n",
    "        response.raise_for_status()\n",
    "        end_time = time.time()\n",
    "        duration = end_time - start_time\n",
    "        print(f\"INFO: Successfully sent data to {url} in {duration:.2f} seconds. Response status code: {response.status_code}\")\n",
    "        print(f\"INFO: Response content: {response.text}\")\n",
    "        return True, duration\n",
    "    except requests.exceptions.RequestException as e:\n",
    "        end_time = time.time()\n",
    "        duration = end_time - start_time\n",
    "        error_message = f\"ERROR: Failed to send data to {url} in {duration:.2f} seconds. Error: {e}\"\n",
    "        print(error_message)\n",
    "        return False, duration\n",
    "\n",
    "# --- Main Pipeline ---\n",
    "\n",
    "# Step 1: Get Data from Web Addresses\n",
    "total_execution_time = 0\n",
    "\n",
    "print(\"INFO: --- Starting Databricks Pipeline ---\")\n",
    "\n",
    "# Fetch Space Launches Data\n",
    "spacex_data, fetch_duration = fetch_data_from_url(spacex_launches_url)\n",
    "total_execution_time += fetch_duration\n",
    "\n",
    "if spacex_data is None:\n",
    "    print(\"ERROR: Aborting pipeline due to failure in fetching SpaceX launches data.\")\n",
    "    dbutils.notebook.exit(\"Pipeline Failed\")\n",
    "\n",
    "# Step 2: Filter the List of Launches\n",
    "filtered_data, filter_duration = filter_launches(spacex_data, launch_year_filter, launch_success_filter)\n",
    "total_execution_time += filter_duration\n",
    "\n",
    "# Step 3: Send the Chosen Information\n",
    "if filtered_data:\n",
    "    send_success, send_duration = send_data_to_url(target_url, filtered_data)\n",
    "    total_execution_time += send_duration\n",
    "    if send_success:\n",
    "        print(\"INFO: Successfully sent the filtered data to the target URL.\")\n",
    "    else:\n",
    "        print(\"ERROR: Failed to send the filtered data to the target URL.\")\n",
    "else:\n",
    "    print(\"INFO: No data found after filtering. Skipping the data sending step.\")\n",
    "\n",
    "# --- Final Report ---\n",
    "print(\"\\nINFO: --- Pipeline Execution Summary ---\")\n",
    "print(f\"INFO: Total pipeline execution time: {total_execution_time:.2f} seconds.\")\n",
    "\n",
    "print(\"INFO: --- Pipeline Completed ---\")"
   ]
  },
  {
   "cell_type": "code",
   "execution_count": 0,
   "metadata": {
    "application/vnd.databricks.v1+cell": {
     "cellMetadata": {},
     "inputWidgets": {},
     "nuid": "39ac68fd-9128-4f46-9f8a-fae3bcca0ce8",
     "showTitle": false,
     "tableResultSettingsMap": {},
     "title": ""
    }
   },
   "outputs": [],
   "source": []
  }
 ],
 "metadata": {
  "application/vnd.databricks.v1+notebook": {
   "computePreferences": null,
   "dashboards": [],
   "environmentMetadata": {
    "base_environment": "",
    "environment_version": "2"
   },
   "inputWidgetPreferences": null,
   "language": "python",
   "notebookMetadata": {
    "pythonIndentUnit": 4
   },
   "notebookName": "Filter Gemini 2.0",
   "widgets": {}
  },
  "language_info": {
   "name": "python"
  }
 },
 "nbformat": 4,
 "nbformat_minor": 0
}
