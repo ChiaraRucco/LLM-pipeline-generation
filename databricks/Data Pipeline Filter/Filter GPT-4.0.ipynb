{
 "cells": [
  {
   "cell_type": "markdown",
   "metadata": {
    "application/vnd.databricks.v1+cell": {
     "cellMetadata": {},
     "inputWidgets": {},
     "nuid": "c1137619-5355-4fef-890f-52fe0a9dd7a4",
     "showTitle": false,
     "tableResultSettingsMap": {},
     "title": ""
    }
   },
   "source": [
    "## PROMPT\n",
    "Generate a pipeline for Databricks:\n",
    "* Get Data information from two web addresses:\n",
    "   * Space launches: https://api.spacexdata.com/v3/launches\n",
    "* Filter the list of launches based on launch year and launch success status.\n",
    "* Send the chosen information to the web address: https://httpbin.org/post\n",
    "* The script must provide status updates on its progress, report any errors encountered, confirm the outcome of the final data sending step, and measure/report execution times."
   ]
  },
  {
   "cell_type": "code",
   "execution_count": 0,
   "metadata": {
    "application/vnd.databricks.v1+cell": {
     "cellMetadata": {
      "byteLimit": 2048000,
      "rowLimit": 10000
     },
     "inputWidgets": {},
     "nuid": "ee0d752a-c304-43fb-b7ae-0f6012b395ae",
     "showTitle": false,
     "tableResultSettingsMap": {},
     "title": ""
    }
   },
   "outputs": [],
   "source": [
    "import requests\n",
    "import time\n",
    "from datetime import datetime\n",
    "\n",
    "# --- Configuration ---\n",
    "SPACEX_API_URL = \"https://api.spacexdata.com/v3/launches\"\n",
    "POST_URL = \"https://httpbin.org/post\"\n",
    "FILTER_YEAR = \"2020\"\n",
    "FILTER_SUCCESS = True\n",
    "\n",
    "# --- Helper Functions ---\n",
    "def log(msg):\n",
    "    print(f\"[{datetime.now().strftime('%Y-%m-%d %H:%M:%S')}] {msg}\")\n",
    "\n",
    "def fetch_launch_data():\n",
    "    log(\"Fetching SpaceX launch data...\")\n",
    "    try:\n",
    "        response = requests.get(SPACEX_API_URL)\n",
    "        response.raise_for_status()\n",
    "        log(\"Successfully fetched launch data.\")\n",
    "        return response.json()\n",
    "    except requests.RequestException as e:\n",
    "        log(f\"Error fetching launch data: {e}\")\n",
    "        return []\n",
    "\n",
    "def filter_launches(data, year, success_status):\n",
    "    log(f\"Filtering data for year={year} and success={success_status}...\")\n",
    "    filtered = [\n",
    "        launch for launch in data\n",
    "        if str(launch.get(\"launch_year\")) == year and launch.get(\"launch_success\") == success_status\n",
    "    ]\n",
    "    log(f\"Filtered down to {len(filtered)} launches.\")\n",
    "    return filtered\n",
    "\n",
    "def send_filtered_data(filtered_data):\n",
    "    log(\"Sending filtered data to POST endpoint...\")\n",
    "    try:\n",
    "        response = requests.post(POST_URL, json=filtered_data)\n",
    "        response.raise_for_status()\n",
    "        log(\"Data successfully sent.\")\n",
    "        return response.json()\n",
    "    except requests.RequestException as e:\n",
    "        log(f\"Error sending data: {e}\")\n",
    "        return None\n",
    "\n",
    "# --- Main Pipeline ---\n",
    "def main():\n",
    "    total_start = time.time()\n",
    "\n",
    "    fetch_start = time.time()\n",
    "    data = fetch_launch_data()\n",
    "    fetch_time = time.time() - fetch_start\n",
    "\n",
    "    if not data:\n",
    "        log(\"Terminating due to fetch failure.\")\n",
    "        return\n",
    "\n",
    "    filter_start = time.time()\n",
    "    filtered_data = filter_launches(data, FILTER_YEAR, FILTER_SUCCESS)\n",
    "    filter_time = time.time() - filter_start\n",
    "\n",
    "    send_start = time.time()\n",
    "    response = send_filtered_data(filtered_data)\n",
    "    send_time = time.time() - send_start\n",
    "\n",
    "    total_time = time.time() - total_start\n",
    "\n",
    "    log(f\"Fetch time: {fetch_time:.2f}s\")\n",
    "    log(f\"Filter time: {filter_time:.2f}s\")\n",
    "    log(f\"Send time: {send_time:.2f}s\")\n",
    "    log(f\"Total execution time: {total_time:.2f}s\")\n",
    "\n",
    "    if response:\n",
    "        log(\"Final Response Preview:\")\n",
    "        print(response)\n",
    "\n",
    "# Run the pipeline\n",
    "main()"
   ]
  },
  {
   "cell_type": "code",
   "execution_count": 0,
   "metadata": {
    "application/vnd.databricks.v1+cell": {
     "cellMetadata": {},
     "inputWidgets": {},
     "nuid": "912a062d-cbf2-4998-9108-29b1991ff768",
     "showTitle": false,
     "tableResultSettingsMap": {},
     "title": ""
    }
   },
   "outputs": [],
   "source": []
  }
 ],
 "metadata": {
  "application/vnd.databricks.v1+notebook": {
   "computePreferences": null,
   "dashboards": [],
   "environmentMetadata": {
    "base_environment": "",
    "environment_version": "2"
   },
   "inputWidgetPreferences": null,
   "language": "python",
   "notebookMetadata": {
    "pythonIndentUnit": 4
   },
   "notebookName": "Filter GPT-4.0",
   "widgets": {}
  },
  "language_info": {
   "name": "python"
  }
 },
 "nbformat": 4,
 "nbformat_minor": 0
}
