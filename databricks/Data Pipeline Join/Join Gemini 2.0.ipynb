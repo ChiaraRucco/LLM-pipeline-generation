{
 "cells": [
  {
   "cell_type": "markdown",
   "metadata": {
    "application/vnd.databricks.v1+cell": {
     "cellMetadata": {},
     "inputWidgets": {},
     "nuid": "c1137619-5355-4fef-890f-52fe0a9dd7a4",
     "showTitle": false,
     "tableResultSettingsMap": {},
     "title": ""
    }
   },
   "source": [
    "## PROMPT\n",
    "Generate a pipeline for Databricks\n",
    "* Get Data information from two web addresses:\n",
    "   * Space launches: https://api.spacexdata.com/v3/launches\n",
    "   * All rockets: https://api.spacexdata.com/v3/rockets\n",
    "* Do a join operation between the launches and the rockets\n",
    "* Send the chosen information to the web address: https://httpbin.org/post\n",
    "* The script must provide status updates on its progress, report any errors encountered, confirm the outcome of the final data sending step, and measure/report execution times.\n"
   ]
  },
  {
   "cell_type": "code",
   "execution_count": 0,
   "metadata": {
    "application/vnd.databricks.v1+cell": {
     "cellMetadata": {
      "byteLimit": 2048000,
      "rowLimit": 10000
     },
     "inputWidgets": {},
     "nuid": "60fe49f1-ea7e-4f70-be4d-520afcbaf6ba",
     "showTitle": false,
     "tableResultSettingsMap": {},
     "title": ""
    }
   },
   "outputs": [],
   "source": [
    "import requests\n",
    "import json\n",
    "import time\n",
    "\n",
    "def get_data(url):\n",
    "    start_time = time.time()\n",
    "    print(f\"Fetching data from: {url}\")\n",
    "    try:\n",
    "        response = requests.get(url)\n",
    "        response.raise_for_status()  # Raise an exception for bad status codes\n",
    "        data = response.json()\n",
    "        end_time = time.time()\n",
    "        duration = end_time - start_time\n",
    "        print(f\"Successfully fetched data from {url} in {duration:.2f} seconds.\")\n",
    "        return data, duration, None\n",
    "    except requests.exceptions.RequestException as e:\n",
    "        end_time = time.time()\n",
    "        duration = end_time - start_time\n",
    "        error_message = f\"Error fetching data from {url}: {e}\"\n",
    "        print(error_message)\n",
    "        return None, duration, error_message\n",
    "\n",
    "def join_data(launches_data, rockets_data):\n",
    "    start_time = time.time()\n",
    "    print(\"Joining launch and rocket data...\")\n",
    "    if launches_data and rockets_data:\n",
    "        # This is a simplified join based on a common field (e.g., rocket_id)\n",
    "        # You might need to adjust the join logic based on the actual data structure\n",
    "        joined_data = []\n",
    "        rockets_dict = {rocket['rocket_id']: rocket for rocket in rockets_data}\n",
    "        for launch in launches_data:\n",
    "            if 'rocket' in launch and launch['rocket']['rocket_id'] in rockets_dict:\n",
    "                joined_data.append({**launch, **rockets_dict[launch['rocket']['rocket_id']]})\n",
    "        end_time = time.time()\n",
    "        duration = end_time - start_time\n",
    "        print(f\"Successfully joined data in {duration:.2f} seconds.\")\n",
    "        return joined_data, duration, None\n",
    "    else:\n",
    "        end_time = time.time()\n",
    "        duration = end_time - start_time\n",
    "        error_message = \"Error: Could not join data as one or both datasets are missing.\"\n",
    "        print(error_message)\n",
    "        return None, duration, error_message\n",
    "\n",
    "def send_data(url, data):\n",
    "    start_time = time.time()\n",
    "    print(f\"Sending data to: {url}\")\n",
    "    try:\n",
    "        response = requests.post(url, json=data)\n",
    "        response.raise_for_status()\n",
    "        end_time = time.time()\n",
    "        duration = end_time - start_time\n",
    "        print(f\"Successfully sent data to {url} in {duration:.2f} seconds.\")\n",
    "        print(f\"Response from {url}: {response.text}\")\n",
    "        return response.status_code, duration, None\n",
    "    except requests.exceptions.RequestException as e:\n",
    "        end_time = time.time()\n",
    "        duration = end_time - start_time\n",
    "        error_message = f\"Error sending data to {url}: {e}\"\n",
    "        print(error_message)\n",
    "        return None, duration, error_message\n",
    "\n",
    "def main():\n",
    "    total_start_time = time.time()\n",
    "\n",
    "    launches_url = \"https://api.spacexdata.com/v3/launches\"\n",
    "    rockets_url = \"https://api.spacexdata.com/v3/rockets\"\n",
    "    target_url = \"https://httpbin.org/post\"\n",
    "\n",
    "    launches_data, launch_time, launch_error = get_data(launches_url)\n",
    "    rockets_data, rockets_time, rockets_error = get_data(rockets_url)\n",
    "\n",
    "    if launch_error:\n",
    "        print(f\"Error encountered during launch data retrieval: {launch_error}\")\n",
    "    if rockets_error:\n",
    "        print(f\"Error encountered during rocket data retrieval: {rockets_error}\")\n",
    "\n",
    "    joined_data, join_time, join_error = join_data(launches_data, rockets_data)\n",
    "\n",
    "    if join_error:\n",
    "        print(f\"Error encountered during data joining: {join_error}\")\n",
    "\n",
    "    if joined_data:\n",
    "        send_status, send_time, send_error = send_data(target_url, joined_data)\n",
    "        if send_status == 200:\n",
    "            print(\"Final data sending step was successful.\")\n",
    "        else:\n",
    "            print(f\"Final data sending step failed with status code: {send_status} and error: {send_error}\")\n",
    "\n",
    "    total_end_time = time.time()\n",
    "    total_duration = total_end_time - total_start_time\n",
    "    print(f\"\\nTotal execution time: {total_duration:.2f} seconds.\")\n",
    "\n",
    "if __name__ == \"__main__\":\n",
    "    main()"
   ]
  },
  {
   "cell_type": "code",
   "execution_count": 0,
   "metadata": {
    "application/vnd.databricks.v1+cell": {
     "cellMetadata": {},
     "inputWidgets": {},
     "nuid": "3206a13b-113b-4ae8-bab8-8fab6bb46acf",
     "showTitle": false,
     "tableResultSettingsMap": {},
     "title": ""
    }
   },
   "outputs": [],
   "source": []
  }
 ],
 "metadata": {
  "application/vnd.databricks.v1+notebook": {
   "computePreferences": null,
   "dashboards": [],
   "environmentMetadata": {
    "base_environment": "",
    "environment_version": "2"
   },
   "inputWidgetPreferences": null,
   "language": "python",
   "notebookMetadata": {
    "pythonIndentUnit": 4
   },
   "notebookName": "Join Gemini 2.0",
   "widgets": {}
  },
  "language_info": {
   "name": "python"
  }
 },
 "nbformat": 4,
 "nbformat_minor": 0
}
