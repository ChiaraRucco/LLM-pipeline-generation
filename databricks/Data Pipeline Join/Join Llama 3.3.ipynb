{
 "cells": [
  {
   "cell_type": "markdown",
   "metadata": {
    "application/vnd.databricks.v1+cell": {
     "cellMetadata": {},
     "inputWidgets": {},
     "nuid": "c1137619-5355-4fef-890f-52fe0a9dd7a4",
     "showTitle": false,
     "tableResultSettingsMap": {},
     "title": ""
    }
   },
   "source": [
    "## PROMPT\n",
    "Generate a pipeline for Databricks\n",
    "* Get Data information from two web addresses:\n",
    "   * Space launches: https://api.spacexdata.com/v3/launches\n",
    "   * All rockets: https://api.spacexdata.com/v3/rockets\n",
    "* Do a join operation between the launches and the rockets\n",
    "* Send the chosen information to the web address: https://httpbin.org/post\n",
    "* The script must provide status updates on its progress, report any errors encountered, confirm the outcome of the final data sending step, and measure/report execution times."
   ]
  },
  {
   "cell_type": "code",
   "execution_count": 0,
   "metadata": {
    "application/vnd.databricks.v1+cell": {
     "cellMetadata": {
      "byteLimit": 2048000,
      "rowLimit": 10000
     },
     "inputWidgets": {},
     "nuid": "91d4e90d-382f-44ff-b6da-074f8842896e",
     "showTitle": false,
     "tableResultSettingsMap": {},
     "title": ""
    }
   },
   "outputs": [],
   "source": [
    "import requests\n",
    "import pandas as pd\n",
    "from datetime import datetime\n",
    "\n",
    "def fetch_data(url):\n",
    "    try:\n",
    "        response = requests.get(url)\n",
    "        response.raise_for_status()  # Raise an exception for HTTP errors\n",
    "        return response.json()\n",
    "    except requests.exceptions.RequestException as e:\n",
    "        print(f\"Error fetching data from {url}: {e}\")\n",
    "        return None\n",
    "\n",
    "# Fetch space launches and rockets data\n",
    "launches_url = \"https://api.spacexdata.com/v3/launches\"\n",
    "rockets_url = \"https://api.spacexdata.com/v3/rockets\"\n",
    "\n",
    "launches_data = fetch_data(launches_url)\n",
    "rockets_data = fetch_data(rockets_url)\n",
    "\n",
    "print(\"Fetched launches data.\")\n",
    "print(\"Fetched rockets data.\")\n",
    "\n",
    "# Assuming 'rocket' in launches_data contains the rocket ID\n",
    "def convert_to_df(data):\n",
    "    return pd.DataFrame(data)\n",
    "\n",
    "launches_df = convert_to_df(launches_data)\n",
    "rockets_df = convert_to_df(rockets_data)\n",
    "\n",
    "# Perform join operation\n",
    "# Assuming 'rocket_id' is the common column\n",
    "joined_df = launches_df.merge(rockets_df, left_on='rocket.rocket_id', right_on='rocket_id', how='inner')\n",
    "\n",
    "print(\"Performed join operation.\")\n",
    "\n",
    "def send_data(url, data):\n",
    "    try:\n",
    "        response = requests.post(url, json=data)\n",
    "        response.raise_for_status()\n",
    "        print(\"Data sent successfully.\")\n",
    "        return response.json()\n",
    "    except requests.exceptions.RequestException as e:\n",
    "        print(f\"Error sending data to {url}: {e}\")\n",
    "        return None\n",
    "\n",
    "# Select chosen information\n",
    "chosen_data = joined_df[['flight_number', 'mission_name', 'rocket.rocket_id']].to_dict(orient='records')\n",
    "\n",
    "post_url = \"https://httpbin.org/post\"\n",
    "response = send_data(post_url, chosen_data)\n",
    "\n",
    "print(\"Received response from the server:\", response)\n",
    "\n",
    "start_time = datetime.now()\n",
    "print(\"Pipeline started at:\", start_time)\n",
    "\n",
    "# ... (Insert steps above here)\n",
    "\n",
    "end_time = datetime.now()\n",
    "execution_time = end_time - start_time\n",
    "print(\"Pipeline finished at:\", end_time)\n",
    "print(\"Total execution time:\", execution_time)\n"
   ]
  },
  {
   "cell_type": "markdown",
   "metadata": {
    "application/vnd.databricks.v1+cell": {
     "cellMetadata": {},
     "inputWidgets": {},
     "nuid": "dbcd87d9-d203-4190-a0e0-bc85ab6b869c",
     "showTitle": false,
     "tableResultSettingsMap": {},
     "title": ""
    }
   },
   "source": [
    "Take the output and give to the LLM to resolve\n"
   ]
  },
  {
   "cell_type": "code",
   "execution_count": 0,
   "metadata": {
    "application/vnd.databricks.v1+cell": {
     "cellMetadata": {
      "byteLimit": 2048000,
      "rowLimit": 10000
     },
     "inputWidgets": {},
     "nuid": "1cc2279d-33db-4114-aadb-52987e04aa40",
     "showTitle": false,
     "tableResultSettingsMap": {},
     "title": ""
    }
   },
   "outputs": [],
   "source": [
    "import requests\n",
    "import pandas as pd\n",
    "from datetime import datetime\n",
    "\n",
    "def fetch_data(url):\n",
    "    try:\n",
    "        response = requests.get(url)\n",
    "        response.raise_for_status()\n",
    "        return response.json()\n",
    "    except requests.exceptions.RequestException as e:\n",
    "        print(f\"Error fetching data from {url}: {e}\")\n",
    "        return None\n",
    "\n",
    "def convert_to_df(data):\n",
    "    return pd.DataFrame(data)\n",
    "\n",
    "def send_data(url, data):\n",
    "    try:\n",
    "        response = requests.post(url, json=data)\n",
    "        response.raise_for_status()\n",
    "        print(\"Data sent successfully.\")\n",
    "        return response.json()\n",
    "    except requests.exceptions.RequestException as e:\n",
    "        print(f\"Error sending data to {url}: {e}\")\n",
    "        return None\n",
    "\n",
    "start_time = datetime.now()\n",
    "print(\"Pipeline started at:\", start_time)\n",
    "\n",
    "launches_url = \"https://api.spacexdata.com/v3/launches\"\n",
    "rockets_url = \"https://api.spacexdata.com/v3/rockets\"\n",
    "\n",
    "launches_data = fetch_data(launches_url)\n",
    "rockets_data = fetch_data(rockets_url)\n",
    "\n",
    "print(\"Fetched launches data.\")\n",
    "print(\"Fetched rockets data.\")\n",
    "\n",
    "launches_df = convert_to_df(launches_data)\n",
    "rockets_df = convert_to_df(rockets_data)\n",
    "\n",
    "# Print the column names to verify\n",
    "print(\"Launches columns:\", launches_df.columns)\n",
    "print(\"Rockets columns:\", rockets_df.columns)\n",
    "\n",
    "# Perform join operation\n",
    "# Assuming 'rocket' in launches_data contains the rocket ID\n",
    "# and 'rocket_id' or 'id' in rockets_data contains the rocket ID\n",
    "joined_df = launches_df.merge(rockets_df, left_on='rocket.id', right_on='id', how='inner')\n",
    "\n",
    "print(\"Performed join operation.\")\n",
    "\n",
    "chosen_data = joined_df[['flight_number', 'mission_name', 'id_x']].to_dict(orient='records')\n",
    "\n",
    "post_url = \"https://httpbin.org/post\"\n",
    "response = send_data(post_url, chosen_data)\n",
    "\n",
    "print(\"Received response from the server:\", response)\n",
    "\n",
    "end_time = datetime.now()\n",
    "execution_time = end_time - start_time\n",
    "print(\"Pipeline finished at:\", end_time)\n",
    "print(\"Total execution time:\", execution_time)\n"
   ]
  },
  {
   "cell_type": "markdown",
   "metadata": {
    "application/vnd.databricks.v1+cell": {
     "cellMetadata": {},
     "inputWidgets": {},
     "nuid": "ba267801-6dfa-434d-b031-8c22ac93eaeb",
     "showTitle": false,
     "tableResultSettingsMap": {},
     "title": ""
    }
   },
   "source": [
    "Take the output and give to the LLM to resolve\n"
   ]
  },
  {
   "cell_type": "code",
   "execution_count": 0,
   "metadata": {
    "application/vnd.databricks.v1+cell": {
     "cellMetadata": {
      "byteLimit": 2048000,
      "rowLimit": 10000
     },
     "inputWidgets": {},
     "nuid": "a7a800a3-a5ab-4e43-b4c9-03b41d4b74bb",
     "showTitle": false,
     "tableResultSettingsMap": {},
     "title": ""
    }
   },
   "outputs": [],
   "source": [
    "import requests\n",
    "import pandas as pd\n",
    "from datetime import datetime\n",
    "\n",
    "def fetch_data(url):\n",
    "    try:\n",
    "        response = requests.get(url)\n",
    "        response.raise_for_status()\n",
    "        return response.json()\n",
    "    except requests.exceptions.RequestException as e:\n",
    "        print(f\"Error fetching data from {url}: {e}\")\n",
    "        return None\n",
    "\n",
    "def convert_to_df(data):\n",
    "    return pd.DataFrame(data)\n",
    "\n",
    "def send_data(url, data):\n",
    "    try:\n",
    "        response = requests.post(url, json=data)\n",
    "        response.raise_for_status()\n",
    "        print(\"Data sent successfully.\")\n",
    "        return response.json()\n",
    "    except requests.exceptions.RequestException as e:\n",
    "        print(f\"Error sending data to {url}: {e}\")\n",
    "        return None\n",
    "\n",
    "start_time = datetime.now()\n",
    "print(\"Pipeline started at:\", start_time)\n",
    "\n",
    "launches_url = \"https://api.spacexdata.com/v3/launches\"\n",
    "rockets_url = \"https://api.spacexdata.com/v3/rockets\"\n",
    "\n",
    "launches_data = fetch_data(launches_url)\n",
    "rockets_data = fetch_data(rockets_url)\n",
    "\n",
    "print(\"Fetched launches data.\")\n",
    "print(\"Fetched rockets data.\")\n",
    "\n",
    "launches_df = convert_to_df(launches_data)\n",
    "rockets_df = convert_to_df(rockets_data)\n",
    "\n",
    "# Print the column names to verify\n",
    "print(\"Launches columns:\", launches_df.columns)\n",
    "print(\"Rockets columns:\", rockets_df.columns)\n",
    "\n",
    "# Extract the rocket id from the 'rocket' column\n",
    "launches_df['rocket_id'] = launches_df['rocket'].apply(lambda x: x['rocket_id'])\n",
    "\n",
    "# Perform join operation\n",
    "joined_df = launches_df.merge(rockets_df, left_on='rocket_id', right_on='rocket_id', how='inner')\n",
    "\n",
    "print(\"Performed join operation.\")\n",
    "\n",
    "chosen_data = joined_df[['flight_number', 'mission_name', 'rocket_id']].to_dict(orient='records')\n",
    "\n",
    "post_url = \"https://httpbin.org/post\"\n",
    "response = send_data(post_url, chosen_data)\n",
    "\n",
    "print(\"Received response from the server:\", response)\n",
    "\n",
    "end_time = datetime.now()\n",
    "execution_time = end_time - start_time\n",
    "print(\"Pipeline finished at:\", end_time)\n",
    "print(\"Total execution time:\", execution_time)\n"
   ]
  }
 ],
 "metadata": {
  "application/vnd.databricks.v1+notebook": {
   "computePreferences": null,
   "dashboards": [],
   "environmentMetadata": {
    "base_environment": "",
    "environment_version": "2"
   },
   "inputWidgetPreferences": null,
   "language": "python",
   "notebookMetadata": {
    "pythonIndentUnit": 4
   },
   "notebookName": "Join Llama 3.3",
   "widgets": {}
  },
  "language_info": {
   "name": "python"
  }
 },
 "nbformat": 4,
 "nbformat_minor": 0
}
