{
 "cells": [
  {
   "cell_type": "markdown",
   "metadata": {
    "application/vnd.databricks.v1+cell": {
     "cellMetadata": {},
     "inputWidgets": {},
     "nuid": "c1137619-5355-4fef-890f-52fe0a9dd7a4",
     "showTitle": false,
     "tableResultSettingsMap": {},
     "title": ""
    }
   },
   "source": [
    "## PROMPT\n",
    "Generate a pipeline for Databricks\n",
    "* Get Data information from two web addresses:\n",
    "   * Space launches: https://api.spacexdata.com/v3/launches\n",
    "   * All rockets: https://api.spacexdata.com/v3/rockets\n",
    "* Do a join operation between the launches and the rockets\n",
    "* Send the chosen information to the web address: https://httpbin.org/post\n",
    "* The script must provide status updates on its progress, report any errors encountered, confirm the outcome of the final data sending step, and measure/report execution times."
   ]
  },
  {
   "cell_type": "code",
   "execution_count": 0,
   "metadata": {
    "application/vnd.databricks.v1+cell": {
     "cellMetadata": {
      "byteLimit": 2048000,
      "rowLimit": 10000
     },
     "inputWidgets": {},
     "nuid": "8881c113-1393-4b63-9297-3d530f91b32f",
     "showTitle": false,
     "tableResultSettingsMap": {},
     "title": ""
    }
   },
   "outputs": [],
   "source": [
    "import requests\n",
    "import json\n",
    "import time\n",
    "\n",
    "# Helper function to log messages with timestamps\n",
    "def log(message):\n",
    "    print(f\"[{time.strftime('%Y-%m-%d %H:%M:%S')}] {message}\")\n",
    "\n",
    "# Function to fetch data from a given URL\n",
    "def fetch_data(url):\n",
    "    try:\n",
    "        log(f\"Fetching data from: {url}\")\n",
    "        response = requests.get(url)\n",
    "        response.raise_for_status()  # Raise an exception for HTTP errors\n",
    "        log(\"Data fetched successfully.\")\n",
    "        return response.json()\n",
    "    except requests.exceptions.RequestException as e:\n",
    "        log(f\"Error fetching data from {url}: {e}\")\n",
    "        raise\n",
    "\n",
    "# Function to send data to the target URL\n",
    "def send_data(url, data):\n",
    "    try:\n",
    "        log(f\"Sending data to: {url}\")\n",
    "        response = requests.post(url, json=data)\n",
    "        response.raise_for_status()  # Raise an exception for HTTP errors\n",
    "        log(\"Data sent successfully.\")\n",
    "        return response.json()\n",
    "    except requests.exceptions.RequestException as e:\n",
    "        log(f\"Error sending data to {url}: {e}\")\n",
    "        raise\n",
    "\n",
    "# Main pipeline function\n",
    "def main():\n",
    "    start_time = time.time()\n",
    "\n",
    "    # Step 1: Fetch data from the two web addresses\n",
    "    try:\n",
    "        launches_url = \"https://api.spacexdata.com/v3/launches\"\n",
    "        rockets_url = \"https://api.spacexdata.com/v3/rockets\"\n",
    "\n",
    "        launches_data = fetch_data(launches_url)\n",
    "        rockets_data = fetch_data(rockets_url)\n",
    "\n",
    "        log(f\"Number of launches fetched: {len(launches_data)}\")\n",
    "        log(f\"Number of rockets fetched: {len(rockets_data)}\")\n",
    "\n",
    "    except Exception as e:\n",
    "        log(f\"Pipeline failed during data fetching: {e}\")\n",
    "        return\n",
    "\n",
    "    # Step 2: Perform a join operation between launches and rockets\n",
    "    try:\n",
    "        log(\"Performing join operation between launches and rockets...\")\n",
    "        rockets_dict = {rocket['id']: rocket for rocket in rockets_data}\n",
    "\n",
    "        joined_data = []\n",
    "        for launch in launches_data:\n",
    "            rocket_id = launch.get('rocket', {}).get('rocket_id')\n",
    "            rocket_info = rockets_dict.get(rocket_id, {})\n",
    "            joined_entry = {\n",
    "                'launch_name': launch.get('mission_name'),\n",
    "                'launch_date': launch.get('launch_date_utc'),\n",
    "                'rocket_name': rocket_info.get('name'),\n",
    "                'rocket_country': rocket_info.get('country'),\n",
    "                'rocket_description': rocket_info.get('description')\n",
    "            }\n",
    "            joined_data.append(joined_entry)\n",
    "\n",
    "        log(f\"Join operation completed. Total entries: {len(joined_data)}\")\n",
    "\n",
    "    except Exception as e:\n",
    "        log(f\"Pipeline failed during join operation: {e}\")\n",
    "        return\n",
    "\n",
    "    # Step 3: Send the joined data to the target URL\n",
    "    try:\n",
    "        target_url = \"https://httpbin.org/post\"\n",
    "        response = send_data(target_url, joined_data)\n",
    "        log(f\"Response from target URL: {json.dumps(response, indent=2)}\")\n",
    "\n",
    "    except Exception as e:\n",
    "        log(f\"Pipeline failed during data sending: {e}\")\n",
    "        return\n",
    "\n",
    "    # Final step: Report execution time\n",
    "    end_time = time.time()\n",
    "    execution_time = end_time - start_time\n",
    "    log(f\"Pipeline completed successfully. Total execution time: {execution_time:.2f} seconds.\")\n",
    "\n",
    "# Run the pipeline\n",
    "if __name__ == \"__main__\":\n",
    "    main()"
   ]
  }
 ],
 "metadata": {
  "application/vnd.databricks.v1+notebook": {
   "computePreferences": null,
   "dashboards": [],
   "environmentMetadata": {
    "base_environment": "",
    "environment_version": "2"
   },
   "inputWidgetPreferences": null,
   "language": "python",
   "notebookMetadata": {
    "pythonIndentUnit": 4
   },
   "notebookName": "Join Qwen 2.5-Max",
   "widgets": {}
  },
  "language_info": {
   "name": "python"
  }
 },
 "nbformat": 4,
 "nbformat_minor": 0
}
