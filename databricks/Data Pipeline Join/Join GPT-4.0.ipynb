{
 "cells": [
  {
   "cell_type": "markdown",
   "metadata": {
    "application/vnd.databricks.v1+cell": {
     "cellMetadata": {},
     "inputWidgets": {},
     "nuid": "c1137619-5355-4fef-890f-52fe0a9dd7a4",
     "showTitle": false,
     "tableResultSettingsMap": {},
     "title": ""
    }
   },
   "source": [
    "## PROMPT\n",
    "Generate a pipeline for Databricks\n",
    "* Get Data information from two web addresses:\n",
    "   * Space launches: https://api.spacexdata.com/v3/launches\n",
    "   * All rockets: https://api.spacexdata.com/v3/rockets\n",
    "* Do a join operation between the launches and the rockets\n",
    "* Send the chosen information to the web address: https://httpbin.org/post\n",
    "* The script must provide status updates on its progress, report any errors encountered, confirm the outcome of the final data sending step, and measure/report execution times."
   ]
  },
  {
   "cell_type": "code",
   "execution_count": 0,
   "metadata": {
    "application/vnd.databricks.v1+cell": {
     "cellMetadata": {
      "byteLimit": 2048000,
      "rowLimit": 10000
     },
     "inputWidgets": {},
     "nuid": "671d3dca-4d25-41fc-828e-d9ebfb698089",
     "showTitle": false,
     "tableResultSettingsMap": {},
     "title": ""
    }
   },
   "outputs": [],
   "source": [
    "import requests\n",
    "import pandas as pd\n",
    "import json\n",
    "import time\n",
    "from datetime import datetime\n",
    "\n",
    "def log_status(message):\n",
    "    timestamp = datetime.utcnow().strftime(\"%Y-%m-%d %H:%M:%S\")\n",
    "    print(f\"[{timestamp}] {message}\")\n",
    "\n",
    "def fetch_data(url, name):\n",
    "    try:\n",
    "        log_status(f\"Fetching {name} data from {url}...\")\n",
    "        response = requests.get(url)\n",
    "        response.raise_for_status()\n",
    "        log_status(f\"Successfully fetched {name} data.\")\n",
    "        return response.json()\n",
    "    except Exception as e:\n",
    "        log_status(f\"Error fetching {name} data: {str(e)}\")\n",
    "        raise\n",
    "\n",
    "def main():\n",
    "    start_time = time.time()\n",
    "    \n",
    "    try:\n",
    "        # Step 1: Get data\n",
    "        launches_data = fetch_data(\"https://api.spacexdata.com/v3/launches\", \"Launches\")\n",
    "        rockets_data = fetch_data(\"https://api.spacexdata.com/v3/rockets\", \"Rockets\")\n",
    "\n",
    "        # Step 2: Convert to DataFrame\n",
    "        log_status(\"Converting data to DataFrames...\")\n",
    "        launches_df = pd.json_normalize(launches_data)\n",
    "        rockets_df = pd.json_normalize(rockets_data)\n",
    "        log_status(\"Conversion to DataFrames successful.\")\n",
    "\n",
    "        # Step 3: Join on rocket id\n",
    "        log_status(\"Performing join operation on rocket.rocket_id...\")\n",
    "        merged_df = launches_df.merge(\n",
    "            rockets_df,\n",
    "            left_on=\"rocket.rocket_id\",\n",
    "            right_on=\"rocket_id\",\n",
    "            suffixes=('_launch', '_rocket')\n",
    "        )\n",
    "        log_status(f\"Join operation successful. Merged rows: {len(merged_df)}\")\n",
    "\n",
    "        # Step 4: Select relevant fields\n",
    "        log_status(\"Selecting relevant information...\")\n",
    "        selected_data = merged_df[[\n",
    "            \"mission_name\",\n",
    "            \"launch_year\",\n",
    "            \"launch_success\",\n",
    "            \"rocket.rocket_name\",\n",
    "            \"rocket_type\",\n",
    "            \"description\"\n",
    "        ]]\n",
    "\n",
    "        # Convert to JSON\n",
    "        data_to_send = selected_data.to_dict(orient=\"records\")\n",
    "\n",
    "        # Step 5: Send to endpoint\n",
    "        log_status(\"Sending data to https://httpbin.org/post...\")\n",
    "        response = requests.post(\"https://httpbin.org/post\", json=data_to_send)\n",
    "        response.raise_for_status()\n",
    "\n",
    "        log_status(\"Data successfully sent. Response status: \" + str(response.status_code))\n",
    "    \n",
    "    except Exception as e:\n",
    "        log_status(f\"Pipeline failed with error: {str(e)}\")\n",
    "    finally:\n",
    "        duration = time.time() - start_time\n",
    "        log_status(f\"Pipeline completed in {duration:.2f} seconds.\")\n",
    "\n",
    "# Run the pipeline\n",
    "main()\n"
   ]
  },
  {
   "cell_type": "code",
   "execution_count": 0,
   "metadata": {
    "application/vnd.databricks.v1+cell": {
     "cellMetadata": {},
     "inputWidgets": {},
     "nuid": "1edd53a7-3728-4d20-8966-377f374a577e",
     "showTitle": false,
     "tableResultSettingsMap": {},
     "title": ""
    }
   },
   "outputs": [],
   "source": []
  }
 ],
 "metadata": {
  "application/vnd.databricks.v1+notebook": {
   "computePreferences": null,
   "dashboards": [],
   "environmentMetadata": {
    "base_environment": "",
    "environment_version": "2"
   },
   "inputWidgetPreferences": null,
   "language": "python",
   "notebookMetadata": {
    "pythonIndentUnit": 4
   },
   "notebookName": "Join GPT-4.0",
   "widgets": {}
  },
  "language_info": {
   "name": "python"
  }
 },
 "nbformat": 4,
 "nbformat_minor": 0
}
